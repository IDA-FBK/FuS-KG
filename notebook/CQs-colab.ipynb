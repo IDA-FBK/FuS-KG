{
 "nbformat": 4,
 "nbformat_minor": 0,
 "metadata": {
  "colab": {
   "provenance": []
  },
  "kernelspec": {
   "name": "python3",
   "display_name": "Python 3"
  },
  "language_info": {
   "name": "python"
  }
 },
 "cells": [
  {
   "cell_type": "code",
   "execution_count": null,
   "metadata": {
    "colab": {
     "base_uri": "https://localhost:8080/"
    },
    "id": "y9HdDSBqDeIR",
    "outputId": "406fec31-d0a3-465e-f51b-a6ebb3453d99",
    "executionInfo": {
     "status": "ok",
     "timestamp": 1734280896813,
     "user_tz": -60,
     "elapsed": 3856,
     "user": {
      "displayName": "Gianluca Apriceno",
      "userId": "08608742979601712621"
     }
    },
    "is_executing": true
   },
   "outputs": [],
   "source": [
    "### WARNING:\n",
    "\n",
    "# Memory Issue on Free Colab Accounts\n",
    "#\n",
    "# Free Colab accounts provide approximately 12GB of RAM (CPU). When loading\n",
    "# large graphs, you might encounter this error:\n",
    "#\n",
    "# \"Your session crashed after using all available RAM.\"\n",
    "#\n",
    "# This indicates the session ended due to exceeding all the available RAM memory.\n",
    "# To resolve this:\n",
    "#\n",
    "# 1. Run the setup cell (the first cell in the notebook), followed by the cell\n",
    "#    that caused the error.\n",
    "# 2. If the problem persists, go to Runtime > Restart runtime, then rerun the\n",
    "#    setup cell, followed by the cell that caused the error.\n",
    "#\n",
    "# Tip: For additional memory, consider upgrading to a Colab Pro account.\n",
    "\n",
    "### SETUP CELL - RUN THIS FIRST\n",
    "!pip install rdflib\n",
    "import rdflib\n",
    "from rdflib import Graph"
   ]
  },
  {
   "cell_type": "code",
   "source": [
    "#### REQ1 #####\n",
    "### The MMKG must conceptualize the food domain at a fine-grained level.\n",
    "\n",
    "### YOU HAVE TO LOAD THE CORRESPONDING GRAPH, OTHERWISE RELATED QUERIES WILL NOT WORK\n",
    "\n",
    "path_to_recipes1m_usda = \"https://media.githubusercontent.com/media/IDA-FBK/FuS-KG/refs/heads/update-modules/ontology/ABox/fuskg-usda-foods-nutrients-recipe1m.ttl\"\n",
    "recipes1m_usda_graph = Graph()\n",
    "recipes1m_usda_graph.parse(path_to_recipes1m_usda, format=\"ttl\")\n",
    "\n",
    "# It seems that RDFLib is not able to import the ABox of fuskg-usda-foods-nutrients.ttl (and indirectly the tbox of usda) when doing parsing, then we have to explicitly load it\n",
    "path_to_usda_tbox = \"https://media.githubusercontent.com/media/IDA-FBK/FuS-KG/refs/heads/update-modules/ontology/TBox/fuskg-usda.ttl\"\n",
    "usda_tbox_graph = Graph()\n",
    "usda_tbox_graph.parse(path_to_usda_tbox, format=\"ttl\")\n",
    "\n",
    "path_to_usda_fn = \"https://media.githubusercontent.com/media/IDA-FBK/FuS-KG/refs/heads/update-modules/ontology/ABox/fuskg-usda-foods-nutrients.ttl\"\n",
    "usda_fn_graph = Graph()\n",
    "usda_fn_graph.parse(path_to_usda_fn, format=\"ttl\")\n",
    "\n",
    "graph_req1 = recipes1m_usda_graph + usda_tbox_graph + usda_fn_graph\n",
    "\n",
    "print(\"DONE\")"
   ],
   "metadata": {
    "id": "ld49MwTwD5Xy",
    "colab": {
     "base_uri": "https://localhost:8080/"
    },
    "executionInfo": {
     "status": "ok",
     "timestamp": 1734278676147,
     "user_tz": -60,
     "elapsed": 120772,
     "user": {
      "displayName": "Gianluca Apriceno",
      "userId": "08608742979601712621"
     }
    },
    "outputId": "fd9bb075-5aba-4c6e-9b88-408e78814c0c"
   },
   "execution_count": 2,
   "outputs": [
    {
     "output_type": "stream",
     "name": "stdout",
     "text": [
      "DONE\n"
     ]
    }
   ]
  },
  {
   "cell_type": "code",
   "source": [
    "## CQ1-1 ##\n",
    "# Which are the ingredients of recipe X?\n",
    "\n",
    "recipe_X = \"Yogurt Parfaits\"\n",
    "q1_1 = graph_req1.query(\n",
    "    \"\"\"\n",
    "    SELECT ?foodLabel\n",
    "    WHERE {{\n",
    "        ?recipe a fsreci:Recipe1m ;\n",
    "                rdfs:label \"{}\" ;\n",
    "                fsreci:hasRecipeFood ?recipefood .\n",
    "        ?recipefood fsreci:hasFood ?food .\n",
    "        ?food rdfs:label ?foodLabel .\n",
    "    }}\n",
    "\"\"\".format(recipe_X)\n",
    ")\n",
    "\n",
    "print(\"Recipe {} has the following Ingredients:\\n\".format(recipe_X))\n",
    "for result in q1_1:\n",
    "    print(\"- Ingredient: {}\".format(result[0]))"
   ],
   "metadata": {
    "id": "QA1I5P5qFADw",
    "colab": {
     "base_uri": "https://localhost:8080/"
    },
    "executionInfo": {
     "status": "ok",
     "timestamp": 1734280219682,
     "user_tz": -60,
     "elapsed": 396,
     "user": {
      "displayName": "Gianluca Apriceno",
      "userId": "08608742979601712621"
     }
    },
    "outputId": "469acab2-1d3c-40ef-a04e-a9cac2bfe2ea"
   },
   "execution_count": 30,
   "outputs": [
    {
     "output_type": "stream",
     "name": "stdout",
     "text": [
      "Recipe Yogurt Parfaits has the following Ingredients:\n",
      "\n",
      "- Ingredient: Strawberries, raw\n",
      "- Ingredient: Yogurt, Greek, plain, nonfat (Includes foods for USDA's Food Distribution Program)\n",
      "- Ingredient: Cereals ready-to-eat, granola, homemade\n"
     ]
    }
   ]
  },
  {
   "cell_type": "code",
   "source": [
    "## CQ1-2 ##\n",
    "# Which are the nutrients of the food Y?\n",
    "\n",
    "food_Y = \"Strawberries, raw\"\n",
    "q1_2 = graph_req1.query(\n",
    "    \"\"\"\n",
    "    SELECT ?nutrClassLabel\n",
    "    WHERE {{\n",
    "        ?food rdfs:label \"{}\"@en ;\n",
    "              fscore:hasNutrient ?nutrInst .\n",
    "        ?nutrInst a ?nutrClass .\n",
    "        ?nutrClass rdfs:label ?nutrClassLabel .\n",
    "        FILTER(STRSTARTS(str(?nutrClass), \"https://w3id.org/fuskg/usda#usda-nut\")) .\n",
    "    }}\n",
    "\"\"\".format(food_Y)\n",
    ")\n",
    "\n",
    "print(\"Food {} has the following Nutrients:\\n\".format(recipe_X))\n",
    "for result in q1_2:\n",
    "    print(\"- Nutrient: {}\".format(result[0]))"
   ],
   "metadata": {
    "id": "CroDW89gFBLd",
    "colab": {
     "base_uri": "https://localhost:8080/"
    },
    "executionInfo": {
     "status": "ok",
     "timestamp": 1734280225023,
     "user_tz": -60,
     "elapsed": 317,
     "user": {
      "displayName": "Gianluca Apriceno",
      "userId": "08608742979601712621"
     }
    },
    "outputId": "6b85adcb-25d1-41ec-b128-20bc6ebca80f"
   },
   "execution_count": 31,
   "outputs": [
    {
     "output_type": "stream",
     "name": "stdout",
     "text": [
      "Food Yogurt Parfaits has the following Nutrients:\n",
      "\n",
      "- Nutrient: Tocopherol, gamma\n",
      "- Nutrient: Fatty acids, total polyunsaturated\n",
      "- Nutrient: Vitamin E (alpha-tocopherol)\n",
      "- Nutrient: Tryptophan\n",
      "- Nutrient: Magnesium, Mg\n",
      "- Nutrient: Lactose\n",
      "- Nutrient: Arginine\n",
      "- Nutrient: Glutamic acid\n",
      "- Nutrient: Vitamin K (phylloquinone)\n",
      "- Nutrient: PUFA 18:4\n",
      "- Nutrient: SFA 12:0\n",
      "- Nutrient: Potassium, K\n",
      "- Nutrient: Copper, Cu\n",
      "- Nutrient: Sodium, Na\n",
      "- Nutrient: Tocotrienol, alpha\n",
      "- Nutrient: Methionine\n",
      "- Nutrient: Lycopene\n",
      "- Nutrient: Iron, Fe\n",
      "- Nutrient: Leucine\n",
      "- Nutrient: Vitamin D (D2 + D3)\n",
      "- Nutrient: Tocopherol, beta\n",
      "- Nutrient: Folate, total\n",
      "- Nutrient: Vitamin K (Dihydrophylloquinone)\n",
      "- Nutrient: Tyrosine\n",
      "- Nutrient: Sugars, Total\n",
      "- Nutrient: PUFA 18:3\n",
      "- Nutrient: Maltose\n",
      "- Nutrient: Vitamin D (D2 + D3), International Units\n",
      "- Nutrient: Sucrose\n",
      "- Nutrient: Total lipid (fat)\n",
      "- Nutrient: Vitamin C, total ascorbic acid\n",
      "- Nutrient: PUFA 22:6 n-3 (DHA)\n",
      "- Nutrient: Phytosterols\n",
      "- Nutrient: Cryptoxanthin, beta\n",
      "- Nutrient: Alcohol, ethyl\n",
      "- Nutrient: Choline, total\n",
      "- Nutrient: Calcium, Ca\n",
      "- Nutrient: Vitamin B-6\n",
      "- Nutrient: Vitamin B-12\n",
      "- Nutrient: MUFA 16:1\n",
      "- Nutrient: Cystine\n",
      "- Nutrient: Alanine\n",
      "- Nutrient: Phosphorus, P\n",
      "- Nutrient: Retinol\n",
      "- Nutrient: Betaine\n",
      "- Nutrient: MUFA 22:1\n",
      "- Nutrient: Fatty acids, total saturated\n",
      "- Nutrient: Thiamin\n",
      "- Nutrient: Fluoride, F\n",
      "- Nutrient: Histidine\n",
      "- Nutrient: Protein\n",
      "- Nutrient: PUFA 22:5 n-3 (DPA)\n",
      "- Nutrient: Vitamin A, RAE\n",
      "- Nutrient: Aspartic acid\n",
      "- Nutrient: SFA 14:0\n",
      "- Nutrient: PUFA 20:5 n-3 (EPA)\n",
      "- Nutrient: Tocotrienol, delta\n",
      "- Nutrient: Phenylalanine\n",
      "- Nutrient: SFA 10:0\n",
      "- Nutrient: Riboflavin\n",
      "- Nutrient: Vitamin B-12, added\n",
      "- Nutrient: Vitamin E, added\n",
      "- Nutrient: MUFA 18:1\n",
      "- Nutrient: Vitamin A, IU\n",
      "- Nutrient: Fiber, total dietary\n",
      "- Nutrient: SFA 8:0\n",
      "- Nutrient: Ash\n",
      "- Nutrient: Folate, DFE\n",
      "- Nutrient: PUFA 18:2\n",
      "- Nutrient: Valine\n",
      "- Nutrient: Theobromine\n",
      "- Nutrient: Carotene, beta\n",
      "- Nutrient: Lysine\n",
      "- Nutrient: Tocotrienol, beta\n",
      "- Nutrient: Proline\n",
      "- Nutrient: Selenium, Se\n",
      "- Nutrient: Niacin\n",
      "- Nutrient: Tocopherol, delta\n",
      "- Nutrient: SFA 16:0\n",
      "- Nutrient: Glycine\n",
      "- Nutrient: MUFA 20:1\n",
      "- Nutrient: Pantothenic acid\n",
      "- Nutrient: Manganese, Mn\n",
      "- Nutrient: Serine\n",
      "- Nutrient: Starch\n",
      "- Nutrient: Folate, food\n",
      "- Nutrient: PUFA 20:4\n",
      "- Nutrient: SFA 6:0\n",
      "- Nutrient: Tocotrienol, gamma\n",
      "- Nutrient: Threonine\n",
      "- Nutrient: Cholesterol\n",
      "- Nutrient: SFA 4:0\n",
      "- Nutrient: Fatty acids, total monounsaturated\n",
      "- Nutrient: SFA 18:0\n",
      "- Nutrient: Carotene, alpha\n",
      "- Nutrient: Galactose\n",
      "- Nutrient: Zinc, Zn\n",
      "- Nutrient: Folic acid\n",
      "- Nutrient: Caffeine\n",
      "- Nutrient: Carbohydrate, by difference\n",
      "- Nutrient: Lutein + zeaxanthin\n",
      "- Nutrient: Glucose\n",
      "- Nutrient: Fatty acids, total trans\n",
      "- Nutrient: Fructose\n",
      "- Nutrient: Isoleucine\n"
     ]
    }
   ]
  },
  {
   "cell_type": "code",
   "source": [
    "## CQ1-3 ##\n",
    "# How many calories does food Z have?\n",
    "\n",
    "food_Z = \"Mushrooms, portabella, raw\"\n",
    "q1_3 = graph_req1.query(\n",
    "    \"\"\"\n",
    "    SELECT ?food ?amountCalories\n",
    "    WHERE {{\n",
    "        ?food rdfs:label \"{}\"@en ;\n",
    "              fsfood:amountCalories ?amountCalories .\n",
    "    }}\n",
    "\"\"\".format(food_Z)\n",
    ")\n",
    "\n",
    "for result in q1_3:\n",
    "    print(\"Food {} - Amount of calories: {}\".format(food_Z, result[1]))"
   ],
   "metadata": {
    "id": "2RKkEKNoFBVs",
    "colab": {
     "base_uri": "https://localhost:8080/"
    },
    "executionInfo": {
     "status": "ok",
     "timestamp": 1734280230325,
     "user_tz": -60,
     "elapsed": 205,
     "user": {
      "displayName": "Gianluca Apriceno",
      "userId": "08608742979601712621"
     }
    },
    "outputId": "a6eeb993-cdf2-4625-a55e-ef714f543570"
   },
   "execution_count": 32,
   "outputs": [
    {
     "output_type": "stream",
     "name": "stdout",
     "text": [
      "Food Mushrooms, portabella, raw - Amount of calories: 22.0\n"
     ]
    }
   ]
  },
  {
   "cell_type": "code",
   "source": [
    "## CQ1-4 ##\n",
    "# Which are the ingredients of recipe X that contain nutrient Y?\n",
    "\n",
    "recipe_X = \"Yogurt Parfaits\"\n",
    "nutrient_Y = \"Sugars, Total\"\n",
    "q1_4 =  graph_req1.query(\n",
    "    \"\"\"\n",
    "    SELECT ?foodLabel\n",
    "    WHERE {{\n",
    "        ?recipe a fsreci:Recipe1m ;\n",
    "                 rdfs:label \"{}\" ;\n",
    "                 fsreci:hasRecipeFood ?recipeFood .\n",
    "        ?recipeFood fsreci:hasFood ?food .\n",
    "        ?food rdfs:label ?foodLabel ;\n",
    "            fscore:hasNutrient ?nutrInst .\n",
    "        ?nutrInst a ?nutrClass .\n",
    "        ?nutrClass rdfs:label \"{}\"@en .\n",
    "    }}\n",
    "    \"\"\".format(recipe_X, nutrient_Y)\n",
    ")\n",
    "\n",
    "for result in q1_4:\n",
    "    print(\"Food {} of recipe {} contains nutrient {}\".format(result[0], recipe_X, nutrient_Y))"
   ],
   "metadata": {
    "id": "Ec8WtVfWFBxd",
    "colab": {
     "base_uri": "https://localhost:8080/"
    },
    "executionInfo": {
     "status": "ok",
     "timestamp": 1734280234645,
     "user_tz": -60,
     "elapsed": 824,
     "user": {
      "displayName": "Gianluca Apriceno",
      "userId": "08608742979601712621"
     }
    },
    "outputId": "edcf3e1b-ebf3-447e-ec5e-1ad04ea6b067"
   },
   "execution_count": 33,
   "outputs": [
    {
     "output_type": "stream",
     "name": "stdout",
     "text": [
      "Food Strawberries, raw of recipe Yogurt Parfaits contains nutrient Sugars, Total\n",
      "Food Yogurt, Greek, plain, nonfat (Includes foods for USDA's Food Distribution Program) of recipe Yogurt Parfaits contains nutrient Sugars, Total\n",
      "Food Cereals ready-to-eat, granola, homemade of recipe Yogurt Parfaits contains nutrient Sugars, Total\n"
     ]
    }
   ]
  },
  {
   "cell_type": "code",
   "source": [
    "#### REQ2 ####\n",
    "### The MMKG must provide a comprehensive list of activities that a person can perform. For each activity,\n",
    "### it must be provided the knowledge required to understand the effort necessary to complete the activity\n",
    "### to enable the inference of how much of each food defined under REQ1 is necessary to fulfill the activity.\n",
    "\n",
    "### YOU HAVE TO LOAD THE CORRESPONDING GRAPH, OTHERWISE RELATED QUERIES WILL NOT WORK\n",
    "\n",
    "path_to_activity_graph = \"https://media.githubusercontent.com/media/IDA-FBK/FuS-KG/refs/heads/update-modules/ontology/ABox/fuskg-activities.ttl\"\n",
    "activity_graph = Graph()\n",
    "activity_graph.parse(path_to_activity_graph, format=\"ttl\")"
   ],
   "metadata": {
    "id": "pp7mFt-8GGNM",
    "colab": {
     "base_uri": "https://localhost:8080/"
    },
    "executionInfo": {
     "status": "ok",
     "timestamp": 1734278836600,
     "user_tz": -60,
     "elapsed": 1261,
     "user": {
      "displayName": "Gianluca Apriceno",
      "userId": "08608742979601712621"
     }
    },
    "outputId": "f32ebd60-d44f-4a56-8ae9-d1409a2641ca"
   },
   "execution_count": 9,
   "outputs": [
    {
     "output_type": "execute_result",
     "data": {
      "text/plain": [
       "<Graph identifier=Ne551ca6e265347ce9bfa44a989df06a4 (<class 'rdflib.graph.Graph'>)>"
      ]
     },
     "metadata": {},
     "execution_count": 9
    }
   ]
  },
  {
   "cell_type": "code",
   "source": [
    "## CQ2-1 ##\n",
    "# Which is the effort needed to fulfill the activity X?\n",
    "\n",
    "activity_X = \"Salsa dancing\"\n",
    "q2_1 = activity_graph.query(\n",
    "    \"\"\"\n",
    "    SELECT ?metValue\n",
    "    WHERE {{\n",
    "        ?activity a fsacti:Dancing ;\n",
    "                 rdfs:label \"{}\"@en ;\n",
    "                 fsacti:hasMETValue ?metValue .\n",
    "    }}\n",
    "    \"\"\".format(activity_X)\n",
    ")\n",
    "\n",
    "for result in q2_1:\n",
    "    print(\"Activity {} has MET Value {}\".format(activity_X, result[0]))"
   ],
   "metadata": {
    "id": "oMdNOFOOEYcP",
    "colab": {
     "base_uri": "https://localhost:8080/"
    },
    "executionInfo": {
     "status": "ok",
     "timestamp": 1734280240405,
     "user_tz": -60,
     "elapsed": 233,
     "user": {
      "displayName": "Gianluca Apriceno",
      "userId": "08608742979601712621"
     }
    },
    "outputId": "1ddcde9e-7aba-4081-b975-63a1da2b19ab"
   },
   "execution_count": 34,
   "outputs": [
    {
     "output_type": "stream",
     "name": "stdout",
     "text": [
      "Activity Salsa dancing has MET Value 4.5\n"
     ]
    }
   ]
  },
  {
   "cell_type": "code",
   "source": [
    "## CQ2-2 ##\n",
    "# How many calories are consumed when performing activity Y for N minutes?\n",
    "\n",
    "activity_Y = \"mountain climbing\"\n",
    "N = 30\n",
    "q2_2 = activity_graph.query(\n",
    "    \"\"\"\n",
    "    SELECT ?KcalValue (?KcalValue * {} AS ?KcalValue30m)\n",
    "    WHERE {{\n",
    "        ?activity a fsacti:Sports ;\n",
    "                 rdfs:label \"{}\"@en ;\n",
    "                 fsacti:hasUnitKCalValue ?KcalValue .\n",
    "    }}\n",
    "    \"\"\".format(N, activity_Y)\n",
    ")\n",
    "\n",
    "for result in q2_2:\n",
    "    print(\"Activity {} has {} Kcal per minute and when performed for {} minutes {} Kcal are consumed\".format(activity_Y, round(float(result[0]), 2), N, round(float(result[1]), 2)))"
   ],
   "metadata": {
    "id": "uvdrUtWYEZQu",
    "colab": {
     "base_uri": "https://localhost:8080/"
    },
    "executionInfo": {
     "status": "ok",
     "timestamp": 1734280245637,
     "user_tz": -60,
     "elapsed": 251,
     "user": {
      "displayName": "Gianluca Apriceno",
      "userId": "08608742979601712621"
     }
    },
    "outputId": "0ead497b-30b3-454e-96e6-aaacc90f39cd"
   },
   "execution_count": 35,
   "outputs": [
    {
     "output_type": "stream",
     "name": "stdout",
     "text": [
      "Activity mountain climbing has 0.13 Kcal per minute and when performed for 30 minutes 4.0 Kcal are consumed\n"
     ]
    }
   ]
  },
  {
   "cell_type": "code",
   "source": [
    "## CQ2-3 ##\n",
    "# Which is the most intense activity of category C?\n",
    "\n",
    "category_C = \"WaterActivities\"\n",
    "q2_3 = activity_graph.query(\n",
    "    \"\"\"\n",
    "    SELECT ?activityLabel ?maxMetValue\n",
    "    WHERE {{\n",
    "        {{\n",
    "            SELECT (MAX(?metValue) as ?maxMetValue)\n",
    "            WHERE {{\n",
    "                ?activity a fsacti:{} ;\n",
    "                         fsacti:hasMETValue ?metValue .\n",
    "            }}\n",
    "        }}\n",
    "        ?activity a fsacti:{} ;\n",
    "                 rdfs:label ?activityLabel ;\n",
    "                 fsacti:hasMETValue ?maxMetValue .\n",
    "        FILTER(LANG(?activityLabel) = 'en')\n",
    "    }}\n",
    "    \"\"\".format(category_C, category_C)\n",
    ")\n",
    "for result in q2_3:\n",
    "    print(\"The most intense activity of category {} is {} with MET value {}\".format(category_C, result[0], result[1]))"
   ],
   "metadata": {
    "id": "7c3q8IaXEf1M",
    "colab": {
     "base_uri": "https://localhost:8080/"
    },
    "executionInfo": {
     "status": "ok",
     "timestamp": 1734280249392,
     "user_tz": -60,
     "elapsed": 293,
     "user": {
      "displayName": "Gianluca Apriceno",
      "userId": "08608742979601712621"
     }
    },
    "outputId": "16c3c3b0-4c70-4c01-ff4b-081c50be2b8a"
   },
   "execution_count": 36,
   "outputs": [
    {
     "output_type": "stream",
     "name": "stdout",
     "text": [
      "The most intense activity of category WaterActivities is free diving, vigorous effort with MET value 15.8\n",
      "The most intense activity of category WaterActivities is scuba diving, vigorous effort with MET value 15.8\n"
     ]
    }
   ]
  },
  {
   "cell_type": "code",
   "source": [
    "## CQ2-4 ##\n",
    "# Which are the activities of category C that consume at least 0.1 kcal?\n",
    "\n",
    "q2_4 = activity_graph.query(\n",
    "    \"\"\"\n",
    "    SELECT ?activityLabel ?KcalValue\n",
    "    WHERE {{\n",
    "        ?activity a fsacti:{} ;\n",
    "                 rdfs:label ?activityLabel ;\n",
    "                 fsacti:hasUnitKCalValue ?KcalValue .\n",
    "        FILTER(LANG(?activityLabel) = 'en' && ?KcalValue >= 0.1)\n",
    "    }}\n",
    "    ORDER BY ASC(?activityLabel)\n",
    "    \"\"\".format(category_C)\n",
    ")\n",
    "for result in q2_4:\n",
    "    print(\"Activity {} consumes {}\".format(result[0], round(float(result[1]),2)))"
   ],
   "metadata": {
    "id": "yD31_uf4Eigt",
    "colab": {
     "base_uri": "https://localhost:8080/"
    },
    "executionInfo": {
     "status": "ok",
     "timestamp": 1734280255738,
     "user_tz": -60,
     "elapsed": 314,
     "user": {
      "displayName": "Gianluca Apriceno",
      "userId": "08608742979601712621"
     }
    },
    "outputId": "babbec82-a8f9-4b27-d647-4c006cd89e5b"
   },
   "execution_count": 37,
   "outputs": [
    {
     "output_type": "stream",
     "name": "stdout",
     "text": [
      "Activity backstroke swimming competition consumes 0.16\n",
      "Activity backstroke swimming training consumes 0.16\n",
      "Activity backstroke swimming, moderate effort consumes 0.16\n",
      "Activity breaststroke swimming competition consumes 0.16\n",
      "Activity breaststroke swimming training consumes 0.16\n",
      "Activity breaststroke swimming, moderate effort consumes 0.17\n",
      "Activity butterfly swimming consumes 0.23\n",
      "Activity canoeing crew in competition consumes 0.2\n",
      "Activity crawl swimming, vigorous effort consumes 0.17\n",
      "Activity free diving, light effort consumes 0.12\n",
      "Activity free diving, moderate effort consumes 0.2\n",
      "Activity free diving, vigorous effort consumes 0.26\n",
      "Activity freestyle swimming, moderato effort consumes 0.14\n",
      "Activity freestyle swimming, vigorous effort consumes 0.16\n",
      "Activity kayaking competition consumes 0.21\n",
      "Activity kayaking, vigorous effort consumes 0.21\n",
      "Activity kitesurfing, moderate effort consumes 0.18\n",
      "Activity kitesurfing, vigorous effort consumes 0.23\n",
      "Activity open water swimming (lake, sea, river) consumes 0.1\n",
      "Activity paddle boarding standing consumes 0.1\n",
      "Activity portaging a canoe consumes 0.12\n",
      "Activity rowing > 6 mph consumes 0.21\n",
      "Activity rowing competition consumes 0.21\n",
      "Activity rowing, vigorous effort consumes 0.21\n",
      "Activity scuba diving, light effort consumes 0.12\n",
      "Activity scuba diving, moderate effort consumes 0.2\n",
      "Activity scuba diving, vigorous effort consumes 0.26\n",
      "Activity sidestroke swimming consumes 0.12\n",
      "Activity swimming for leisure consumes 0.1\n",
      "Activity swimming in a lake consumes 0.1\n",
      "Activity swimming in a river consumes 0.1\n",
      "Activity swimming in the sea consumes 0.1\n",
      "Activity synchronized swimming consumes 0.13\n",
      "Activity treading water, vigorous effort consumes 0.16\n",
      "Activity wakeboarding consumes 0.1\n",
      "Activity water jogging consumes 0.16\n",
      "Activity water polo playing consumes 0.17\n",
      "Activity water walking, vigorous effort consumes 0.11\n",
      "Activity waterskiing consumes 0.1\n",
      "Activity windsurfing, moderate effort consumes 0.18\n",
      "Activity windsurfing, vigorous effort consumes 0.23\n"
     ]
    }
   ]
  },
  {
   "cell_type": "code",
   "source": [
    "#### REQ3 #####\n",
    "### The MMKG must include the model of the barriers that may affect a person and how such barriers obstacle\n",
    "### the fulfillment of specific activities, the consumption of specific foods, or, in general, the following of\n",
    "### specific guidelines.\n",
    "\n",
    "### YOU HAVE TO LOAD THE CORRESPONDING GRAPH, OTHERWISE RELATED QUERIES WILL NOT WORK\n",
    "path_to_user_example = \"https://media.githubusercontent.com/media/IDA-FBK/FuS-KG/refs/heads/update-modules/example/fuskg-user-example.ttl\"\n",
    "user_example_graph = Graph()\n",
    "user_example_graph.parse(path_to_user_example, format=\"ttl\")\n",
    "\n",
    "# It seems that RDFLib is not able to import the ABox of fuskg-usda-foods-nutrients.ttl, fuskg-activities.ttl (and indirectly the tbox of barriers) when doing parsing, then we have to explicitly load them\n",
    "path_to_usda_fn = \"https://media.githubusercontent.com/media/IDA-FBK/FuS-KG/refs/heads/update-modules/ontology/ABox/fuskg-usda-foods-nutrients.ttl\"\n",
    "usda_fn_graph = Graph()\n",
    "usda_fn_graph.parse(path_to_usda_fn, format=\"ttl\")\n",
    "\n",
    "path_to_activity= \"https://media.githubusercontent.com/media/IDA-FBK/FuS-KG/refs/heads/update-modules/ontology/ABox/fuskg-activities.ttl\"\n",
    "activity_graph = Graph()\n",
    "activity_graph.parse(path_to_activity, format=\"ttl\")\n",
    "\n",
    "path_to_barriers = \"https://media.githubusercontent.com/media/IDA-FBK/FuS-KG/refs/heads/update-modules/ontology/TBox/fuskg-barriers.ttl\"\n",
    "barriers_graph = Graph()\n",
    "barriers_graph.parse(path_to_barriers, format=\"ttl\")\n",
    "\n",
    "req3_graph = user_example_graph + usda_fn_graph + activity_graph + barriers_graph\n",
    "\n",
    "print(\"Done\")"
   ],
   "metadata": {
    "id": "BEpRVYBYFB8N",
    "colab": {
     "base_uri": "https://localhost:8080/"
    },
    "executionInfo": {
     "status": "ok",
     "timestamp": 1734278995974,
     "user_tz": -60,
     "elapsed": 107142,
     "user": {
      "displayName": "Gianluca Apriceno",
      "userId": "08608742979601712621"
     }
    },
    "outputId": "e8e06dba-22eb-4275-a8ab-42d9af737014"
   },
   "execution_count": 14,
   "outputs": [
    {
     "output_type": "stream",
     "name": "stdout",
     "text": [
      "Done\n"
     ]
    }
   ]
  },
  {
   "cell_type": "code",
   "source": [
    "## CQ3-1 ##\n",
    "# Why user U cannot perform activity X?\n",
    "\n",
    "user_U = \"PatientX\"\n",
    "activity_Z = \"playing rugby, vigorous effort\"\n",
    "\n",
    "q3_1 = req3_graph.query(\n",
    "    \"\"\"\n",
    "    SELECT ?barrier ?barrierType\n",
    "    WHERE {{\n",
    "      ?user rdfs:label \"{}\"@en ;\n",
    "            fsbarr:hasDiagnosis ?diagnosis .\n",
    "      ?diagnosis fsbarr:hasDisease ?disease.\n",
    "      ?barrier a ?barrierType ;\n",
    "               fsbarr:isTriggeredBy ?diagnosis;\n",
    "               fscore:affectsPerformingOf ?activity.\n",
    "      ?activity rdfs:label \"{}\"@en .\n",
    "      ?barrierType rdfs:subClassOf fscore:Barrier .\n",
    "    }}\n",
    "    \"\"\".format(user_U, activity_Z))\n",
    "\n",
    "for result in q3_1:\n",
    "    barrier_name = result[0].split('#')[-1]\n",
    "    barrier_type_name = result[1].split('#')[-1]\n",
    "\n",
    "    print(\"Barrier {} of Barrier Type {} prevents user {} to {}\".format(barrier_name, barrier_type_name, user_U, activity_Z))"
   ],
   "metadata": {
    "colab": {
     "base_uri": "https://localhost:8080/"
    },
    "id": "IiPSX4F4UAqi",
    "executionInfo": {
     "status": "ok",
     "timestamp": 1734280262092,
     "user_tz": -60,
     "elapsed": 255,
     "user": {
      "displayName": "Gianluca Apriceno",
      "userId": "08608742979601712621"
     }
    },
    "outputId": "897e48ad-9b5c-43bd-c79c-e89a0c6beb92"
   },
   "execution_count": 38,
   "outputs": [
    {
     "output_type": "stream",
     "name": "stdout",
     "text": [
      "Barrier ChestPain of Barrier Type HealthBarrier prevents user PatientX to playing rugby, vigorous effort\n"
     ]
    }
   ]
  },
  {
   "cell_type": "code",
   "source": [
    "## CQ3-2 ##\n",
    "# Why user U cannot consume food Y?\n",
    "\n",
    "user_U = \"PatientX\"\n",
    "foodY = \"Butter, salted\"\n",
    "\n",
    "q3_2 = req3_graph.query(\n",
    "    \"\"\"\n",
    "    SELECT ?disease ?diseaseRiskLevel\n",
    "    WHERE {{\n",
    "      ?user rdfs:label \"{}\"@en ;\n",
    "            fsbarr:hasDiagnosis ?diagnosis .\n",
    "      ?diagnosis fsbarr:hasDisease ?disease.\n",
    "      ?diseaseRiskLevel a fsdise:DiseaseRiskLevel ;\n",
    "            fsbarr:hasDisease ?disease ;\n",
    "            fsuser:hasFood ?food .\n",
    "      ?food rdfs:label \"{}\"@en .\n",
    "    }}\n",
    "    \"\"\".format(user_U, foodY)\n",
    ")\n",
    "\n",
    "for result in q3_2:\n",
    "    # Extract local names (after the last '#')\n",
    "    disease_name = result[0].split('#')[-1]\n",
    "    disease_risk_level_name = result[1].split('#')[-1]\n",
    "\n",
    "    # Print the extracted names\n",
    "    print(\"User {} cannot consumed food {} because he has {} disease \\n(i.e., there exists a DiseaseRiskLevel {} correlated to the disease)\".\n",
    "          format(user_U, foodY, disease_name, disease_risk_level_name))"
   ],
   "metadata": {
    "id": "9bWnU-tMFTA7",
    "colab": {
     "base_uri": "https://localhost:8080/"
    },
    "executionInfo": {
     "status": "ok",
     "timestamp": 1734280267020,
     "user_tz": -60,
     "elapsed": 217,
     "user": {
      "displayName": "Gianluca Apriceno",
      "userId": "08608742979601712621"
     }
    },
    "outputId": "414e2fc9-d678-46e1-fb46-149e501d95b9"
   },
   "execution_count": 39,
   "outputs": [
    {
     "output_type": "stream",
     "name": "stdout",
     "text": [
      "User PatientX cannot consumed food Butter, salted because he has Cardiovascular disease \n",
      "(i.e., there exists a DiseaseRiskLevel DRL-USDAFOOD-00001-C correlated to the disease)\n"
     ]
    }
   ]
  },
  {
   "cell_type": "code",
   "source": [
    "## CQ3-3 ##\n",
    "# Which are the barriers preventing the fulfillment of activity Z?\n",
    "\n",
    "activity_Z = \"cycling in mountain-bike, vigorous effort\"\n",
    "\n",
    "q3_3 = req3_graph.query(\"\"\"\n",
    "    SELECT ?barrier ?barrierType\n",
    "    WHERE {{\n",
    "      ?barrier a ?barrierType ;\n",
    "                fscore:affectsPerformingOf ?activity .\n",
    "      ?activity rdfs:label \"{}\"@en ;\n",
    "                a fsacti:Bicycling .\n",
    "      ?barrierType rdfs:subClassOf* fscore:Barrier .\n",
    "    }}\n",
    "\"\"\".format(activity_Z))\n",
    "\n",
    "\n",
    "for result in q3_3:\n",
    "    # Extract local names (after the last '#')\n",
    "    barrier_name = result[0].split('#')[-1]\n",
    "    barrier_type_name = result[1].split('#')[-1]\n",
    "\n",
    "    print(\"Barrier {} of type {} prevents {}\".format(barrier_name, barrier_type_name, activity_Z))"
   ],
   "metadata": {
    "colab": {
     "base_uri": "https://localhost:8080/"
    },
    "id": "m825jTT7OfVW",
    "executionInfo": {
     "status": "ok",
     "timestamp": 1734280281843,
     "user_tz": -60,
     "elapsed": 206,
     "user": {
      "displayName": "Gianluca Apriceno",
      "userId": "08608742979601712621"
     }
    },
    "outputId": "6b7a5df8-1613-4f16-bf74-33c439cf673e"
   },
   "execution_count": 40,
   "outputs": [
    {
     "output_type": "stream",
     "name": "stdout",
     "text": [
      "Barrier BikeCost of type EquipmentCost prevents cycling in mountain-bike, vigorous effort\n"
     ]
    }
   ]
  },
  {
   "cell_type": "code",
   "source": [
    "#### REQ4 #####\n",
    "### The MMKG must support the modeling of multi-modal knowledge since a MMKG may be exploited to better support\n",
    "### users’ education tasks and enable knowledge injection tasks into large foundational models.\n",
    "\n",
    "### YOU HAVE TO LOAD THE CORRESPONDING GRAPHS, OTHERWISE RELATED QUERIES WILL NOT WORK\n",
    "\n",
    "# Due to size of fuskg-multimodal-recipe1m total loading time is > 5 minutes\n",
    "path_to_recipes1m_multimodal = \"https://media.githubusercontent.com/media/IDA-FBK/FuS-KG/refs/heads/update-modules/ontology/ABox/fuskg-multimodal-recipe1m.ttl\"\n",
    "path_to_tasty_multimodal = \"https://media.githubusercontent.com/media/IDA-FBK/FuS-KG/refs/heads/update-modules/ontology/ABox/fuskg-multimodal-tasty.ttl\"\n",
    "path_to_notcooking_example = \"https://media.githubusercontent.com/media/IDA-FBK/FuS-KG/refs/heads/update-modules/example/fuskg-notcooking-example.ttl\"\n",
    "\n",
    "multimodal_graph_recipe1m = Graph()\n",
    "multimodal_graph_tasty = Graph()\n",
    "notcooking_example_graph = Graph()\n",
    "\n",
    "multimodal_graph_recipe1m.parse(path_to_recipes1m_multimodal, format=\"ttl\")\n",
    "multimodal_graph_tasty.parse(path_to_tasty_multimodal, format=\"ttl\")\n",
    "notcooking_example_graph.parse(path_to_notcooking_example, format=\"ttl\")\n",
    "\n",
    "# It seems that RDFLib is not able to import the ABox of fuskg-activities.ttl, then we have to explicitly load it\n",
    "path_to_activity= \"https://media.githubusercontent.com/media/IDA-FBK/FuS-KG/refs/heads/update-modules/ontology/ABox/fuskg-activities.ttl\"\n",
    "activity_graph = Graph()\n",
    "activity_graph.parse(path_to_activity, format=\"ttl\")\n",
    "\n",
    "combined_graph = notcooking_example_graph + activity_graph\n",
    "\n",
    "print(\"Done\")"
   ],
   "metadata": {
    "id": "G5GYJfeGFW0r",
    "colab": {
     "base_uri": "https://localhost:8080/"
    },
    "outputId": "d23afcb7-3bd5-4377-d9c0-082499e59ac1",
    "executionInfo": {
     "status": "ok",
     "timestamp": 1734281533171,
     "user_tz": -60,
     "elapsed": 348429,
     "user": {
      "displayName": "Gianluca Apriceno",
      "userId": "08608742979601712621"
     }
    }
   },
   "execution_count": 6,
   "outputs": [
    {
     "output_type": "stream",
     "name": "stdout",
     "text": [
      "Done\n"
     ]
    }
   ]
  },
  {
   "cell_type": "code",
   "source": [
    "## CQ4-1 ##\n",
    "# Where is it possible to find a picture of recipe X?\n",
    "recipe_X = \"BlueberryIceCream\"\n",
    "q4_1 = multimodal_graph_recipe1m.query(\n",
    "    \"\"\"\n",
    "    SELECT ?recipe ?modalDescriptor ?resourceURL ?pathInArtifact\n",
    "    WHERE {{\n",
    "        ?recipe a fsreci:Recipe1m ;\n",
    "                rdfs:label \"{}\" .\n",
    "        ?recipe fsmumo:hasModalDescriptor ?modalDescriptor .\n",
    "        ?modalDescriptor fsmumo:resourceURL ?resourceURL ;\n",
    "                         fsmumo:hasPathInArtifact ?pathInArtifact .\n",
    "    }}\n",
    "\"\"\".format(recipe_X)\n",
    ")\n",
    "\n",
    "for result in q4_1:\n",
    "    print(\"Recipe {} can be downloaded at ResourceURL: {}\".format(recipe_X, result[2]))\n",
    "    print(\"and the path inside the archive is: {}\".format(result[3]))"
   ],
   "metadata": {
    "id": "FKWZYhCLFbTJ",
    "colab": {
     "base_uri": "https://localhost:8080/"
    },
    "executionInfo": {
     "status": "ok",
     "timestamp": 1734281537879,
     "user_tz": -60,
     "elapsed": 241,
     "user": {
      "displayName": "Gianluca Apriceno",
      "userId": "08608742979601712621"
     }
    },
    "outputId": "0617204d-0c50-4fd9-8483-8adbe0664f7e"
   },
   "execution_count": 7,
   "outputs": [
    {
     "output_type": "stream",
     "name": "stdout",
     "text": [
      "Recipe BlueberryIceCream can be downloaded at ResourceURL: https://fbk.sharepoint.com/:f:/s/IDA/EvsBg8UfMy5Cqh6lbrBAVn4BCWfBJq7Jks_6sRDD_kArAQ?e=oamRuY\n",
      "and the path inside the archive is: ./recipe1m_nutritional/Recipe1m-25034_BlueberryIceCream/70b927a328.jpg\n",
      "Recipe BlueberryIceCream can be downloaded at ResourceURL: https://fbk.sharepoint.com/:f:/s/IDA/EvsBg8UfMy5Cqh6lbrBAVn4BCWfBJq7Jks_6sRDD_kArAQ?e=oamRuY\n",
      "and the path inside the archive is: ./recipe1m_nutritional/Recipe1m-25034_BlueberryIceCream/33ca57d6af.jpg\n",
      "Recipe BlueberryIceCream can be downloaded at ResourceURL: https://fbk.sharepoint.com/:f:/s/IDA/EvsBg8UfMy5Cqh6lbrBAVn4BCWfBJq7Jks_6sRDD_kArAQ?e=oamRuY\n",
      "and the path inside the archive is: ./recipe1m_nutritional/Recipe1m-25034_BlueberryIceCream/9e227c84c0.jpg\n",
      "Recipe BlueberryIceCream can be downloaded at ResourceURL: https://fbk.sharepoint.com/:f:/s/IDA/EvsBg8UfMy5Cqh6lbrBAVn4BCWfBJq7Jks_6sRDD_kArAQ?e=oamRuY\n",
      "and the path inside the archive is: ./recipe1m_nutritional/Recipe1m-25034_BlueberryIceCream/249f3068ee.jpg\n",
      "Recipe BlueberryIceCream can be downloaded at ResourceURL: https://fbk.sharepoint.com/:f:/s/IDA/EvsBg8UfMy5Cqh6lbrBAVn4BCWfBJq7Jks_6sRDD_kArAQ?e=oamRuY\n",
      "and the path inside the archive is: ./recipe1m_nutritional/Recipe1m-25034_BlueberryIceCream/db51a6dd57.jpg\n",
      "Recipe BlueberryIceCream can be downloaded at ResourceURL: https://fbk.sharepoint.com/:f:/s/IDA/EvsBg8UfMy5Cqh6lbrBAVn4BCWfBJq7Jks_6sRDD_kArAQ?e=oamRuY\n",
      "and the path inside the archive is: ./recipe1m_nutritional/Recipe1m-25034_BlueberryIceCream/3a77935f28.jpg\n",
      "Recipe BlueberryIceCream can be downloaded at ResourceURL: https://fbk.sharepoint.com/:f:/s/IDA/EvsBg8UfMy5Cqh6lbrBAVn4BCWfBJq7Jks_6sRDD_kArAQ?e=oamRuY\n",
      "and the path inside the archive is: ./recipe1m_nutritional/Recipe1m-41515_BlueberryIceCream/b01cac56c1.jpg\n",
      "Recipe BlueberryIceCream can be downloaded at ResourceURL: https://fbk.sharepoint.com/:f:/s/IDA/EvsBg8UfMy5Cqh6lbrBAVn4BCWfBJq7Jks_6sRDD_kArAQ?e=oamRuY\n",
      "and the path inside the archive is: ./recipe1m_nutritional/Recipe1m-41515_BlueberryIceCream/ee23b578ac.jpg\n",
      "Recipe BlueberryIceCream can be downloaded at ResourceURL: https://fbk.sharepoint.com/:f:/s/IDA/EvsBg8UfMy5Cqh6lbrBAVn4BCWfBJq7Jks_6sRDD_kArAQ?e=oamRuY\n",
      "and the path inside the archive is: ./recipe1m_nutritional/Recipe1m-41515_BlueberryIceCream/e45ef3f27d.jpg\n",
      "Recipe BlueberryIceCream can be downloaded at ResourceURL: https://fbk.sharepoint.com/:f:/s/IDA/EvsBg8UfMy5Cqh6lbrBAVn4BCWfBJq7Jks_6sRDD_kArAQ?e=oamRuY\n",
      "and the path inside the archive is: ./recipe1m_nutritional/Recipe1m-41515_BlueberryIceCream/028b609c84.jpg\n",
      "Recipe BlueberryIceCream can be downloaded at ResourceURL: https://fbk.sharepoint.com/:f:/s/IDA/EvsBg8UfMy5Cqh6lbrBAVn4BCWfBJq7Jks_6sRDD_kArAQ?e=oamRuY\n",
      "and the path inside the archive is: ./recipe1m_nutritional/Recipe1m-41515_BlueberryIceCream/cc4a4d1825.jpg\n",
      "Recipe BlueberryIceCream can be downloaded at ResourceURL: https://fbk.sharepoint.com/:f:/s/IDA/EvsBg8UfMy5Cqh6lbrBAVn4BCWfBJq7Jks_6sRDD_kArAQ?e=oamRuY\n",
      "and the path inside the archive is: ./recipe1m_nutritional/Recipe1m-41515_BlueberryIceCream/150fe91a17.jpg\n",
      "Recipe BlueberryIceCream can be downloaded at ResourceURL: https://fbk.sharepoint.com/:f:/s/IDA/EvsBg8UfMy5Cqh6lbrBAVn4BCWfBJq7Jks_6sRDD_kArAQ?e=oamRuY\n",
      "and the path inside the archive is: ./recipe1m_nutritional/Recipe1m-42484_BlueberryIceCream/a5d4865dff.jpg\n",
      "Recipe BlueberryIceCream can be downloaded at ResourceURL: https://fbk.sharepoint.com/:f:/s/IDA/EvsBg8UfMy5Cqh6lbrBAVn4BCWfBJq7Jks_6sRDD_kArAQ?e=oamRuY\n",
      "and the path inside the archive is: ./recipe1m_nutritional/Recipe1m-42484_BlueberryIceCream/6e4ae562aa.jpg\n",
      "Recipe BlueberryIceCream can be downloaded at ResourceURL: https://fbk.sharepoint.com/:f:/s/IDA/EvsBg8UfMy5Cqh6lbrBAVn4BCWfBJq7Jks_6sRDD_kArAQ?e=oamRuY\n",
      "and the path inside the archive is: ./recipe1m_nutritional/Recipe1m-42484_BlueberryIceCream/8376f0c309.jpg\n",
      "Recipe BlueberryIceCream can be downloaded at ResourceURL: https://fbk.sharepoint.com/:f:/s/IDA/EvsBg8UfMy5Cqh6lbrBAVn4BCWfBJq7Jks_6sRDD_kArAQ?e=oamRuY\n",
      "and the path inside the archive is: ./recipe1m_nutritional/Recipe1m-42484_BlueberryIceCream/c773b1aacc.jpg\n",
      "Recipe BlueberryIceCream can be downloaded at ResourceURL: https://fbk.sharepoint.com/:f:/s/IDA/EvsBg8UfMy5Cqh6lbrBAVn4BCWfBJq7Jks_6sRDD_kArAQ?e=oamRuY\n",
      "and the path inside the archive is: ./recipe1m_nutritional/Recipe1m-46356_BlueberryIceCream/6adfed6e4d.jpg\n",
      "Recipe BlueberryIceCream can be downloaded at ResourceURL: https://fbk.sharepoint.com/:f:/s/IDA/EvsBg8UfMy5Cqh6lbrBAVn4BCWfBJq7Jks_6sRDD_kArAQ?e=oamRuY\n",
      "and the path inside the archive is: ./recipe1m_nutritional/Recipe1m-46356_BlueberryIceCream/a41017574d.jpg\n",
      "Recipe BlueberryIceCream can be downloaded at ResourceURL: https://fbk.sharepoint.com/:f:/s/IDA/EvsBg8UfMy5Cqh6lbrBAVn4BCWfBJq7Jks_6sRDD_kArAQ?e=oamRuY\n",
      "and the path inside the archive is: ./recipe1m_nutritional/Recipe1m-46356_BlueberryIceCream/524754467b.jpg\n",
      "Recipe BlueberryIceCream can be downloaded at ResourceURL: https://fbk.sharepoint.com/:f:/s/IDA/EvsBg8UfMy5Cqh6lbrBAVn4BCWfBJq7Jks_6sRDD_kArAQ?e=oamRuY\n",
      "and the path inside the archive is: ./recipe1m_nutritional/Recipe1m-47798_BlueberryIceCream/9c215681a6.jpg\n",
      "Recipe BlueberryIceCream can be downloaded at ResourceURL: https://fbk.sharepoint.com/:f:/s/IDA/EvsBg8UfMy5Cqh6lbrBAVn4BCWfBJq7Jks_6sRDD_kArAQ?e=oamRuY\n",
      "and the path inside the archive is: ./recipe1m_nutritional/Recipe1m-47798_BlueberryIceCream/24747124ec.jpg\n",
      "Recipe BlueberryIceCream can be downloaded at ResourceURL: https://fbk.sharepoint.com/:f:/s/IDA/EvsBg8UfMy5Cqh6lbrBAVn4BCWfBJq7Jks_6sRDD_kArAQ?e=oamRuY\n",
      "and the path inside the archive is: ./recipe1m_nutritional/Recipe1m-47798_BlueberryIceCream/88ab8bf88b.jpg\n",
      "Recipe BlueberryIceCream can be downloaded at ResourceURL: https://fbk.sharepoint.com/:f:/s/IDA/EvsBg8UfMy5Cqh6lbrBAVn4BCWfBJq7Jks_6sRDD_kArAQ?e=oamRuY\n",
      "and the path inside the archive is: ./recipe1m_nutritional/Recipe1m-47798_BlueberryIceCream/5b913845ba.jpg\n",
      "Recipe BlueberryIceCream can be downloaded at ResourceURL: https://fbk.sharepoint.com/:f:/s/IDA/EvsBg8UfMy5Cqh6lbrBAVn4BCWfBJq7Jks_6sRDD_kArAQ?e=oamRuY\n",
      "and the path inside the archive is: ./recipe1m_nutritional/Recipe1m-47798_BlueberryIceCream/1b47a8d779.jpg\n",
      "Recipe BlueberryIceCream can be downloaded at ResourceURL: https://fbk.sharepoint.com/:f:/s/IDA/EvsBg8UfMy5Cqh6lbrBAVn4BCWfBJq7Jks_6sRDD_kArAQ?e=oamRuY\n",
      "and the path inside the archive is: ./recipe1m_nutritional/Recipe1m-8371_BlueberryIceCream/4df10773de.jpg\n",
      "Recipe BlueberryIceCream can be downloaded at ResourceURL: https://fbk.sharepoint.com/:f:/s/IDA/EvsBg8UfMy5Cqh6lbrBAVn4BCWfBJq7Jks_6sRDD_kArAQ?e=oamRuY\n",
      "and the path inside the archive is: ./recipe1m_nutritional/Recipe1m-8371_BlueberryIceCream/a34c8f1650.jpg\n",
      "Recipe BlueberryIceCream can be downloaded at ResourceURL: https://fbk.sharepoint.com/:f:/s/IDA/EvsBg8UfMy5Cqh6lbrBAVn4BCWfBJq7Jks_6sRDD_kArAQ?e=oamRuY\n",
      "and the path inside the archive is: ./recipe1m_nutritional/Recipe1m-8371_BlueberryIceCream/b53f7225c6.jpg\n",
      "Recipe BlueberryIceCream can be downloaded at ResourceURL: https://fbk.sharepoint.com/:f:/s/IDA/EvsBg8UfMy5Cqh6lbrBAVn4BCWfBJq7Jks_6sRDD_kArAQ?e=oamRuY\n",
      "and the path inside the archive is: ./recipe1m_nutritional/Recipe1m-8371_BlueberryIceCream/1affcfa05b.jpg\n",
      "Recipe BlueberryIceCream can be downloaded at ResourceURL: https://fbk.sharepoint.com/:f:/s/IDA/EvsBg8UfMy5Cqh6lbrBAVn4BCWfBJq7Jks_6sRDD_kArAQ?e=oamRuY\n",
      "and the path inside the archive is: ./recipe1m_nutritional/Recipe1m-8371_BlueberryIceCream/67541886a5.jpg\n",
      "Recipe BlueberryIceCream can be downloaded at ResourceURL: https://fbk.sharepoint.com/:f:/s/IDA/EvsBg8UfMy5Cqh6lbrBAVn4BCWfBJq7Jks_6sRDD_kArAQ?e=oamRuY\n",
      "and the path inside the archive is: ./recipe1m_nutritional/Recipe1m-8371_BlueberryIceCream/731ef5de1a.jpg\n"
     ]
    }
   ]
  },
  {
   "cell_type": "code",
   "source": [
    "## CQ4-2 ##\n",
    "# Where is it possible to download a video showing how to perform activity Y? --- ongoing finding data\n",
    "activity_Y = \"changing a light bulb\"\n",
    "q4_2 = combined_graph.query(\n",
    "    \"\"\"\n",
    "    SELECT ?activity ?modalDescriptor ?resourceURL\n",
    "    WHERE {{\n",
    "        ?activity a fsacti:HomeActivity ;\n",
    "                  rdfs:label \"{}\"@en .\n",
    "        ?activity fsmumo:hasModalDescriptor ?modalDescriptor .\n",
    "        ?modalDescriptor fsmumo:resourceURL ?resourceURL .\n",
    "    }}\n",
    "\"\"\".format(activity_Y)\n",
    ")\n",
    "\n",
    "for result in q4_2:\n",
    "    print(\"Activity {} can be downloaded at ResourceURL: {}\".format(activity_Y, result[2]))"
   ],
   "metadata": {
    "id": "9Ie0F8JoHN2b",
    "colab": {
     "base_uri": "https://localhost:8080/"
    },
    "executionInfo": {
     "status": "ok",
     "timestamp": 1734281545219,
     "user_tz": -60,
     "elapsed": 234,
     "user": {
      "displayName": "Gianluca Apriceno",
      "userId": "08608742979601712621"
     }
    },
    "outputId": "93fe4ffe-2a27-4ccc-b047-e513a38ddfa9"
   },
   "execution_count": 8,
   "outputs": [
    {
     "output_type": "stream",
     "name": "stdout",
     "text": [
      "Activity changing a light bulb can be downloaded at ResourceURL: https://www.youtube.com/watch?v=Y573xAR_eMw\n"
     ]
    }
   ]
  },
  {
   "cell_type": "code",
   "source": [
    "## CQ4-3 ##\n",
    "# Where is it possible to find a video showing how to prepare recipe Z?\n",
    "\n",
    "recipe_Z = \"chocolate-coconut-almond-balls\"\n",
    "q4_3 = multimodal_graph_tasty.query(\n",
    "    \"\"\"\n",
    "    SELECT ?recipe ?modalDescriptor ?resourceURL ?pathInArtifact\n",
    "    WHERE {{\n",
    "        ?recipe a fsreci:Tasty ;\n",
    "                rdfs:label \"{}\" .\n",
    "        ?recipe fsmumo:hasModalDescriptor ?modalDescriptor .\n",
    "        ?modalDescriptor fsmumo:resourceURL ?resourceURL ;\n",
    "                         fsmumo:hasPathInArtifact ?pathInArtifact .\n",
    "    }}\n",
    "\"\"\".format(recipe_Z)\n",
    ")\n",
    "\n",
    "for result in q4_3:\n",
    "    print(\"Recipe {} can be download at ResourceURL: {}\".format(recipe_Z, result[2]))\n",
    "    print(\"and the path inside the archive is: {}\".format(result[3]))"
   ],
   "metadata": {
    "colab": {
     "base_uri": "https://localhost:8080/"
    },
    "id": "ahbZ0xiJn_qK",
    "outputId": "27c1e178-d33f-4535-c115-3cde3536e406",
    "executionInfo": {
     "status": "ok",
     "timestamp": 1734281550856,
     "user_tz": -60,
     "elapsed": 334,
     "user": {
      "displayName": "Gianluca Apriceno",
      "userId": "08608742979601712621"
     }
    }
   },
   "execution_count": 9,
   "outputs": [
    {
     "output_type": "stream",
     "name": "stdout",
     "text": [
      "Recipe chocolate-coconut-almond-balls can be download at ResourceURL: https://fbk.sharepoint.com/:f:/s/IDA/EoA_tdSP9MpCo_ebxoOY7bwBztKr9asvB_pqNIjJ48p32w?e=f1qg6M\n",
      "and the path inside the archive is: /Tasty_Videos_Dataset/ALL_RECIPES_without_videos/chocolate-coconut-almond-balls/recipe_video.mp4\n"
     ]
    }
   ]
  },
  {
   "cell_type": "code",
   "source": [
    "#### REQ5 #####\n",
    "### Knowledge modeled under the requirements REQ1, REQ2, REQ3, and REQ4 must be associated with knowledge and\n",
    "### data gathered from users’ input.\n",
    "\n",
    "path_to_user_example = \"https://media.githubusercontent.com/media/IDA-FBK/FuS-KG/refs/heads/update-modules/example/fuskg-user-example.ttl\"\n",
    "user_example_graph = Graph()\n",
    "user_example_graph.parse(path_to_user_example, format=\"ttl\")\n",
    "\n",
    "# It seems that RDFLib is not able to import the ABox of fuskg-usda-foods-nutrients.ttl and fuskg-activities.ttl  when doing parsing, then we have to explicitly load them\n",
    "\n",
    "path_to_usda_fn = \"https://media.githubusercontent.com/media/IDA-FBK/FuS-KG/refs/heads/update-modules/ontology/ABox/fuskg-usda-foods-nutrients.ttl\"\n",
    "usda_fn_graph = Graph()\n",
    "usda_fn_graph.parse(path_to_usda_fn, format=\"ttl\")\n",
    "\n",
    "path_to_activity= \"https://media.githubusercontent.com/media/IDA-FBK/FuS-KG/refs/heads/update-modules/ontology/ABox/fuskg-activities.ttl\"\n",
    "activity_graph = Graph()\n",
    "activity_graph.parse(path_to_activity, format=\"ttl\")\n",
    "\n",
    "req5_graph = user_example_graph + usda_fn_graph + activity_graph\n",
    "print(\"DONE\")"
   ],
   "metadata": {
    "id": "dn9hjCXwFeHK",
    "colab": {
     "base_uri": "https://localhost:8080/"
    },
    "executionInfo": {
     "status": "ok",
     "timestamp": 1734280125791,
     "user_tz": -60,
     "elapsed": 89698,
     "user": {
      "displayName": "Gianluca Apriceno",
      "userId": "08608742979601712621"
     }
    },
    "outputId": "0627e747-4054-49fa-ac94-1e64b054ab04"
   },
   "execution_count": 26,
   "outputs": [
    {
     "output_type": "stream",
     "name": "stdout",
     "text": [
      "DONE\n"
     ]
    }
   ]
  },
  {
   "cell_type": "code",
   "source": [
    "## CQ5-1 ##\n",
    "# What did the user U consume N days ago for breakfast?\n",
    "# Suppose today is 24-05-31 and N=5\n",
    "\n",
    "user_U = \"PatientX\"\n",
    "q5_1 = req5_graph.query(\n",
    "    \"\"\"\n",
    "    SELECT ?food ?foodLabel\n",
    "    WHERE {{\n",
    "        ?user rdfs:label \"{}\"@en ;\n",
    "              fsuser:consumed ?consumedMeal .\n",
    "        ?consumedMeal a fsuser:Breakfast ;\n",
    "                      fsuser:hasTimestamp ?timestamp ;\n",
    "                      fsuser:hasConsumedFood ?consumedFood .\n",
    "        ?consumedFood fsuser:hasFood ?food .\n",
    "        ?food rdfs:label ?foodLabel .\n",
    "        FILTER (?timestamp > \"2024-05-26T00:00:00\"^^xsd:dateTime && ?timestamp < \"2024-05-26T23:59:59\"^^xsd:dateTime)\n",
    "    }}\n",
    "\"\"\".format(user_U)\n",
    ")\n",
    "\n",
    "print(\"User {} has consumed for breakfast at 26/05/24:\\n\".format(user_U))\n",
    "for result in q5_1:\n",
    "    print(\"- {}\".format(result[1]))"
   ],
   "metadata": {
    "id": "Q92op6ctFih_",
    "colab": {
     "base_uri": "https://localhost:8080/"
    },
    "executionInfo": {
     "status": "ok",
     "timestamp": 1734280290972,
     "user_tz": -60,
     "elapsed": 213,
     "user": {
      "displayName": "Gianluca Apriceno",
      "userId": "08608742979601712621"
     }
    },
    "outputId": "3949e346-ffc4-4f50-f436-b4b48e3d61d5"
   },
   "execution_count": 41,
   "outputs": [
    {
     "output_type": "stream",
     "name": "stdout",
     "text": [
      "User PatientX has consumed for breakfast at 26/05/24:\n",
      "\n",
      "- Cereals ready-to-eat, FAMILIA\n",
      "- Milk, fluid, nonfat, calcium fortified (fat free or skim)\n"
     ]
    }
   ]
  },
  {
   "cell_type": "code",
   "source": [
    "## CQ5-2 ##\n",
    "# How many times did user U perform activity Y last week?\n",
    "# Suppose today is 24-05-28\n",
    "\n",
    "user_U = \"PatientX\"\n",
    "activity_Y = \"archery sport\"\n",
    "q5_2 = req5_graph.query(\n",
    "    \"\"\"\n",
    "    SELECT ?startActivity ?endActivity\n",
    "    WHERE {{\n",
    "        ?user rdfs:label \"{}\"@en ;\n",
    "              fsuser:performed ?performedActivity.\n",
    "        ?performedActivity fsuser:hasActivity ?activity ;\n",
    "              fsuser:activityStartTimestamp ?startActivity ;\n",
    "              fsuser:activityEndTimestamp ?endActivity .\n",
    "        ?activity rdfs:label \"{}\"@en .\n",
    "        FILTER (?startActivity > \"2024-05-21T00:00:00\"^^xsd:dateTime && ?endActivity < \"2024-05-27T23:59:59\"^^xsd:dateTime)\n",
    "    }}\n",
    "\"\"\".format(user_U, activity_Y)\n",
    ")\n",
    "\n",
    "print(\"User {} perfomed {} times the activity {} last week:\\n\".format(user_U, len(q5_2), activity_Y))\n",
    "for result in q5_2:\n",
    "    print(\"User {} performed activity {} from {} to {}\".format(user_U, activity_Y, result[0], result[1]))"
   ],
   "metadata": {
    "id": "FuWhyYjQFkHd",
    "colab": {
     "base_uri": "https://localhost:8080/"
    },
    "executionInfo": {
     "status": "ok",
     "timestamp": 1734280298124,
     "user_tz": -60,
     "elapsed": 222,
     "user": {
      "displayName": "Gianluca Apriceno",
      "userId": "08608742979601712621"
     }
    },
    "outputId": "e4017e6a-3ebb-4916-9080-445c0d45fc50"
   },
   "execution_count": 42,
   "outputs": [
    {
     "output_type": "stream",
     "name": "stdout",
     "text": [
      "User PatientX perfomed 3 times the activity archery sport last week:\n",
      "\n",
      "User PatientX performed activity archery sport from 2024-05-24T10:07:44 to 2024-05-24T12:37:27\n",
      "User PatientX performed activity archery sport from 2024-05-22T15:07:14 to 2024-05-22T16:47:24\n",
      "User PatientX performed activity archery sport from 2024-05-23T16:30:25 to 2024-05-23T17:40:04\n"
     ]
    }
   ]
  },
  {
   "cell_type": "code",
   "source": [
    "## CQ5-3 ##\n",
    "# Did user U consume food Y today?\n",
    "# Suppose today is 24-05-31 and food_Y = Fish, tuna salad\n",
    "\n",
    "user_U = \"PatientX\"\n",
    "q5_3 = req5_graph.query(\n",
    "    \"\"\"\n",
    "    SELECT ?foodLabel\n",
    "    WHERE {{\n",
    "        ?user rdfs:label \"{}\"@en ;\n",
    "              fsuser:consumed ?consumedMeal .\n",
    "        ?consumedMeal fsuser:hasTimestamp ?timestamp ;\n",
    "                      fsuser:hasConsumedFood ?consumedFood .\n",
    "        ?consumedFood fsuser:hasFood ?food .\n",
    "        ?food rdfs:label ?foodLabel ;\n",
    "        FILTER (\n",
    "                ?foodLabel = \"Fish, tuna salad\"@en &&\n",
    "                ?timestamp > \"2024-05-31T00:00:00\"^^xsd:dateTime && ?timestamp < \"2024-05-31T23:59:59\"^^xsd:dateTime)\n",
    "    }}\n",
    "\"\"\".format(user_U)\n",
    ")\n",
    "\n",
    "\n",
    "for result in q5_3:\n",
    "    if str(result[0]) == \"Fish, tuna salad\":\n",
    "        print(\"yes, user {} has consumed food: {}\".format(user_U, result[0]))\n",
    "    else:\n",
    "        print(\"no, user {} has not consumed food Fish, tuna salad\".format(user_U))\n"
   ],
   "metadata": {
    "id": "-GeJYJmVFkSd",
    "colab": {
     "base_uri": "https://localhost:8080/"
    },
    "executionInfo": {
     "status": "ok",
     "timestamp": 1734280310830,
     "user_tz": -60,
     "elapsed": 312,
     "user": {
      "displayName": "Gianluca Apriceno",
      "userId": "08608742979601712621"
     }
    },
    "outputId": "1119c209-59c5-4105-f04d-19ebf2f7596e"
   },
   "execution_count": 43,
   "outputs": [
    {
     "output_type": "stream",
     "name": "stdout",
     "text": [
      "yes, user PatientX has consumed food: Fish, tuna salad\n"
     ]
    }
   ]
  },
  {
   "cell_type": "code",
   "source": [
    "## CQ5-4 ##\n",
    "# How many calories were consumed by user U yesterday?\n",
    "# Suppose today is 24-05-31, so yesterdy is 24-05-30\n",
    "\n",
    "user_U = \"PatientX\"\n",
    "q5_4 = req5_graph.query(\n",
    "    \"\"\"\n",
    "    SELECT ?foodLabel ?amountCalories (SUM(?amountCalories) AS ?totalCalories)\n",
    "    WHERE {{\n",
    "        ?user rdfs:label \"{}\"@en ;\n",
    "              fsuser:consumed ?consumedMeal .\n",
    "        ?consumedMeal fsuser:hasTimestamp ?timestamp ;\n",
    "              fsuser:hasConsumedFood ?consumedFood .\n",
    "        ?consumedFood fsuser:hasFood ?food .\n",
    "        ?food fsfood:amountCalories ?amountCalories ;\n",
    "        FILTER (?timestamp > \"2024-05-30T00:00:00\"^^xsd:dateTime && ?timestamp < \"2024-05-30T23:59:59\"^^xsd:dateTime)\n",
    "    }}\n",
    "\"\"\".format(user_U)\n",
    ")\n",
    "\n",
    "for result in q5_4:\n",
    "    print(\"User {} has consumed {} calories yesterday\".format(user_U, result.totalCalories))"
   ],
   "metadata": {
    "id": "SP07BbIEFk1N",
    "colab": {
     "base_uri": "https://localhost:8080/"
    },
    "executionInfo": {
     "status": "ok",
     "timestamp": 1734280340899,
     "user_tz": -60,
     "elapsed": 283,
     "user": {
      "displayName": "Gianluca Apriceno",
      "userId": "08608742979601712621"
     }
    },
    "outputId": "aa880027-4fbe-4a1c-b23a-3489b6c0371c"
   },
   "execution_count": 44,
   "outputs": [
    {
     "output_type": "stream",
     "name": "stdout",
     "text": [
      "User PatientX has consumed 666.0 calories yesterday\n"
     ]
    }
   ]
  },
  {
   "cell_type": "code",
   "source": [
    "#### REQ6 #####\n",
    "### A MMKG usable for creating a behavior change solution requires a set of guidelines driving the behavior change intervention.\n",
    "path_to_user_example = \"https://media.githubusercontent.com/media/IDA-FBK/FuS-KG/refs/heads/update-modules/example/fuskg-user-example.ttl\"\n",
    "user_example_graph = Graph()\n",
    "user_example_graph.parse(path_to_user_example, format=\"ttl\")\n",
    "\n",
    "# It seems that RDFLib is not able to import the ABox of fuskg-usda-foods-nutrients.ttl and fuskg-activities.ttl  when doing parsing, then we have to explicitly load them\n",
    "\n",
    "path_to_usda_fn = \"https://media.githubusercontent.com/media/IDA-FBK/FuS-KG/refs/heads/update-modules/ontology/ABox/fuskg-usda-foods-nutrients.ttl\"\n",
    "usda_fn_graph = Graph()\n",
    "usda_fn_graph.parse(path_to_usda_fn, format=\"ttl\")\n",
    "\n",
    "path_to_activity= \"https://media.githubusercontent.com/media/IDA-FBK/FuS-KG/refs/heads/update-modules/ontology/ABox/fuskg-activities.ttl\"\n",
    "activity_graph = Graph()\n",
    "activity_graph.parse(path_to_activity, format=\"ttl\")\n",
    "\n",
    "req6_graph = user_example_graph + usda_fn_graph + activity_graph\n",
    "print(\"DONE\")"
   ],
   "metadata": {
    "id": "O3Ll4NCWGWJs",
    "colab": {
     "base_uri": "https://localhost:8080/"
    },
    "executionInfo": {
     "status": "ok",
     "timestamp": 1734280482671,
     "user_tz": -60,
     "elapsed": 103136,
     "user": {
      "displayName": "Gianluca Apriceno",
      "userId": "08608742979601712621"
     }
    },
    "outputId": "2c622287-f349-455a-bd29-04a7c970167b"
   },
   "execution_count": 45,
   "outputs": [
    {
     "output_type": "stream",
     "name": "stdout",
     "text": [
      "DONE\n"
     ]
    }
   ]
  },
  {
   "cell_type": "code",
   "source": [
    "## CQ6-1 ##\n",
    "# How many times is it possible to consume food X in a week?\n",
    "\n",
    "user_U = \"PatientX\"\n",
    "food_X = \"Fish, tuna salad\"\n",
    "\n",
    "q6_1 = req6_graph.query(\n",
    "    \"\"\"\n",
    "    SELECT ?monitoredValue ?operator\n",
    "    WHERE {{\n",
    "        ?monitoringRule a fsguid:MonitoringRule ;\n",
    "                    fsguid:monitors ?user ;\n",
    "                    fsguid:monitoredEntityType fscore:Food ;\n",
    "                    fsguid:monitoredEntity ?monitoredEntity ;\n",
    "                    fsguid:timing fstemp:Week ;\n",
    "                    fsguid:hasMonitoredValue ?monitoredValue ;\n",
    "                    fsguid:hasOperator ?operator .\n",
    "        ?user rdfs:label \"{}\"@en .\n",
    "        ?monitoredEntity rdfs:label \"{}\"@en .\n",
    "    }}\n",
    "\"\"\".format(user_U, food_X)\n",
    ")\n",
    "\n",
    "# greater includes also equal (so, it's >=)\n",
    "for result in q6_1:\n",
    "    print(\"Food {} can be consumed {} {} times in a week\".format(food_X, result[1], result[0]))"
   ],
   "metadata": {
    "id": "Fh95kcoXGWGT",
    "colab": {
     "base_uri": "https://localhost:8080/"
    },
    "executionInfo": {
     "status": "ok",
     "timestamp": 1734280488172,
     "user_tz": -60,
     "elapsed": 222,
     "user": {
      "displayName": "Gianluca Apriceno",
      "userId": "08608742979601712621"
     }
    },
    "outputId": "875dda4c-f852-4da9-803b-934a2dfece23"
   },
   "execution_count": 46,
   "outputs": [
    {
     "output_type": "stream",
     "name": "stdout",
     "text": [
      "Food Fish, tuna salad can be consumed Greater 1 times in a week\n"
     ]
    }
   ]
  },
  {
   "cell_type": "code",
   "source": [
    "## CQ6-2 ##\n",
    "# How many minutes of activity Y should be performed by user U in a single training session?\n",
    "\n",
    "user_U = \"PatientX\"\n",
    "activity_Y = \"archery sport\"\n",
    "\n",
    "q6_2 = req6_graph.query(\n",
    "    \"\"\"\n",
    "    SELECT ?monitoredValue ?operator\n",
    "    WHERE {{\n",
    "        ?user rdfs:label \"{}\"@en .\n",
    "        ?monitoringRule a fsguid:MonitoringRule ;\n",
    "                    fsguid:monitors ?user ;\n",
    "                    fsguid:monitoredEntityType fsacti:Sports ;\n",
    "                    fsguid:monitoredEntity ?monitoredEntity ;\n",
    "                    fsguid:timing fstemp:Week ;\n",
    "                    fsguid:hasMonitoredValue ?monitoredValue ;\n",
    "                    fsguid:hasOperator ?operator .\n",
    "        ?monitoredEntity rdfs:label \"{}\"@en .\n",
    "    }}\n",
    "\"\"\".format(user_U, activity_Y)\n",
    ")\n",
    "\n",
    "# greater includes also equal (so, it's >=)\n",
    "for result in q6_2:\n",
    "    print(\"User {} should performed {} {} min of activity {}\".format(user_U, result[1], result[0], activity_Y))"
   ],
   "metadata": {
    "id": "E9721LowGWB9",
    "colab": {
     "base_uri": "https://localhost:8080/"
    },
    "executionInfo": {
     "status": "ok",
     "timestamp": 1734280501286,
     "user_tz": -60,
     "elapsed": 317,
     "user": {
      "displayName": "Gianluca Apriceno",
      "userId": "08608742979601712621"
     }
    },
    "outputId": "58840eb4-9284-46df-9fd5-480d7d035d38"
   },
   "execution_count": 47,
   "outputs": [
    {
     "output_type": "stream",
     "name": "stdout",
     "text": [
      "User PatientX should performed Greater 150 min of activity archery sport\n"
     ]
    }
   ]
  },
  {
   "cell_type": "code",
   "source": [
    "## CQ6-3 ##\n",
    "# How much food Y can be eaten during a single meal?\n",
    "\n",
    "user_U = \"PatientX\"\n",
    "food_Y = \"Tortellini, pasta with cheese filling, fresh-refrigerated, as purchased\"\n",
    "\n",
    "q6_3 = req6_graph.query(\n",
    "    \"\"\"\n",
    "    SELECT ?monitoredValue ?operator\n",
    "    WHERE {{\n",
    "        ?monitoringRule a fsguid:MonitoringRule ;\n",
    "                    fsguid:monitors ?user ;\n",
    "                    fsguid:monitoredEntityType fscore:Food ;\n",
    "                    fsguid:monitoredEntity ?monitoredEntity ;\n",
    "                    fsguid:timing fstemp:Meal ;\n",
    "                    fsguid:hasMonitoredValue ?monitoredValue ;\n",
    "                    fsguid:hasOperator ?operator .\n",
    "        ?user rdfs:label \"{}\"@en .\n",
    "        ?monitoredEntity rdfs:label \"{}\"@en .\n",
    "    }}\n",
    "\"\"\".format(user_U, food_Y)\n",
    ")\n",
    "\n",
    "# greater includes also equal (so, it's >=)\n",
    "for result in q6_3:\n",
    "    print(\"User {} can consume {} {}g of {} in a Meal\".format(user_U, result[1], result[0],  food_Y))"
   ],
   "metadata": {
    "id": "gPxvvo-3GV-w",
    "colab": {
     "base_uri": "https://localhost:8080/"
    },
    "executionInfo": {
     "status": "ok",
     "timestamp": 1734280516645,
     "user_tz": -60,
     "elapsed": 259,
     "user": {
      "displayName": "Gianluca Apriceno",
      "userId": "08608742979601712621"
     }
    },
    "outputId": "f1961a74-c331-4844-e848-b54e67c35e8a"
   },
   "execution_count": 48,
   "outputs": [
    {
     "output_type": "stream",
     "name": "stdout",
     "text": [
      "User PatientX can consume Equal 100g of Tortellini, pasta with cheese filling, fresh-refrigerated, as purchased in a Meal\n"
     ]
    }
   ]
  },
  {
   "cell_type": "code",
   "source": [
    "## CQ6-4 ##\n",
    "# Is it allowed to consume M grams of food Z in a single day?\n",
    "\n",
    "user_U = \"PatientX\"\n",
    "food_Y = \"Yogurt, vanilla, low fat.\"\n",
    "M = 50\n",
    "\n",
    "q6_4 = req6_graph.query(\n",
    "    \"\"\"\n",
    "    SELECT ?monitoredValue ?operator\n",
    "    WHERE {{\n",
    "        ?monitoringRule a fsguid:MonitoringRule ;\n",
    "                    fsguid:monitors ?user ;\n",
    "                    fsguid:monitoredEntityType fscore:Food ;\n",
    "                    fsguid:monitoredEntity ?monitoredEntity ;\n",
    "                    fsguid:timing fstemp:Day ;\n",
    "                    fsguid:hasMonitoredValue ?monitoredValue ;\n",
    "                    fsguid:hasOperator ?operator .\n",
    "        ?user rdfs:label \"{}\"@en .\n",
    "        ?monitoredEntity rdfs:label \"{}\"@en .\n",
    "    }}\n",
    "\"\"\".format(user_U, food_Y)\n",
    ")\n",
    "\n",
    "for result in q6_4:\n",
    "    quantity_to_consume = result[0]\n",
    "    print(\"User {} can consume {} {} grams of {} in a day\".format(user_U, result[1], result[0],  food_Y))\n",
    "    if quantity_to_consume >= M:\n",
    "        print(\"\\n so, user {} cannot consume {} grams of food {}\".format(user_U, M, food_Y))\n",
    "    else:\n",
    "        print(\"\\n so, user {} can consume {} grams of food {}\".format(user_U, M, food_Y))"
   ],
   "metadata": {
    "id": "xeumxSLYGV7W",
    "colab": {
     "base_uri": "https://localhost:8080/"
    },
    "executionInfo": {
     "status": "ok",
     "timestamp": 1734280634196,
     "user_tz": -60,
     "elapsed": 325,
     "user": {
      "displayName": "Gianluca Apriceno",
      "userId": "08608742979601712621"
     }
    },
    "outputId": "667f3e98-2b21-46dd-ee7b-f8866091691b"
   },
   "execution_count": 51,
   "outputs": [
    {
     "output_type": "stream",
     "name": "stdout",
     "text": [
      "User PatientX can consume Equal 30 grams of Yogurt, vanilla, low fat. in a day\n",
      "\n",
      " so, user PatientX cannot consume 50 grams of food Yogurt, vanilla, low fat.\n"
     ]
    }
   ]
  },
  {
   "cell_type": "code",
   "source": [
    "#### REQ7 #####\n",
    "### The MMKG must include temporal knowledge to support the requirements above and enable temporal reasoning over the users’ collected knowledge.\n",
    "\n",
    "### YOU HAVE TO LOAD THE CORRESPONDING GRAPH, OTHERWISE RELATED QUERIES WILL NOT WORK\n",
    "\n",
    "path_to_tasty_rsteps = \"https://media.githubusercontent.com/media/IDA-FBK/FuS-KG/refs/heads/update-modules/ontology/ABox/fuskg-recipes-recipessteps-tasty.ttl\"\n",
    "tasty_rsteps_graph = Graph()\n",
    "tasty_rsteps_graph.parse(path_to_tasty_rsteps, format=\"ttl\")\n",
    "\n",
    "path_to_temporal_tbox = \"https://media.githubusercontent.com/media/IDA-FBK/FuS-KG/refs/heads/update-modules/ontology/TBox/fuskg-temporal.ttl\"\n",
    "temporal_tbox_graph = Graph()\n",
    "temporal_tbox_graph.parse(path_to_temporal_tbox, format=\"ttl\")\n",
    "\n",
    "path_to_notcooking_example = \"https://media.githubusercontent.com/media/IDA-FBK/FuS-KG/refs/heads/update-modules/example/fuskg-notcooking-example.ttl\"\n",
    "notcooking_example_graph = Graph()\n",
    "notcooking_example_graph.parse(path_to_notcooking_example, format=\"ttl\")\n",
    "\n",
    "# It seems that RDFLib is not able to import the ABox of fuskg-activities.ttl when doing parsing, then we have to explicitly load it\n",
    "path_to_activity= \"https://media.githubusercontent.com/media/IDA-FBK/FuS-KG/refs/heads/update-modules/ontology/ABox/fuskg-activities.ttl\"\n",
    "activity_graph = Graph()\n",
    "activity_graph.parse(path_to_activity, format=\"ttl\")\n",
    "\n",
    "combined_graph = notcooking_example_graph + activity_graph\n",
    "\n",
    "print(\"Done\")"
   ],
   "metadata": {
    "id": "rKr_QDSmGV1M",
    "colab": {
     "base_uri": "https://localhost:8080/"
    },
    "outputId": "07cbe2c5-6b11-4685-9d6f-c4499b648ede",
    "executionInfo": {
     "status": "ok",
     "timestamp": 1734281080221,
     "user_tz": -60,
     "elapsed": 99513,
     "user": {
      "displayName": "Gianluca Apriceno",
      "userId": "08608742979601712621"
     }
    }
   },
   "execution_count": 2,
   "outputs": [
    {
     "output_type": "stream",
     "name": "stdout",
     "text": [
      "Done\n"
     ]
    }
   ]
  },
  {
   "cell_type": "code",
   "source": [
    "## CQ7-1 ##\n",
    "# Which is the step following step X during the preparation of recipe Y?\n",
    "\n",
    "recipe_Y = \"sofritas-burrito-bowl\"\n",
    "step_X = \"add the soy sauce, chili powder, garlic powder, cumin, paprika, and cayenne.\"\n",
    "\n",
    "q7_1 = tasty_rsteps_graph.query(\n",
    "    \"\"\"\n",
    "    SELECT ?recipeStepAfterLabel\n",
    "    WHERE {{\n",
    "        ?recipe a fsreci:Tasty ;\n",
    "                 rdfs:label \"{}\" ;\n",
    "                 fstemp:hasFirstRecipeStep ?firstStep .\n",
    "        ?firstStep fstemp:afterStep* ?recipeStepBefore .\n",
    "        ?recipeStepBefore fstemp:hasStepDescription ?stepBeforeDescriptionStep .\n",
    "        ?stepBeforeDescriptionStep fstemp:stepDescription \"{}\"^^xsd:string.\n",
    "        ?recipeStepBefore fstemp:afterStep ?recipeStepAfter.\n",
    "        ?recipeStepAfter fstemp:hasStepDescription ?StepAfterDescriptionStep .\n",
    "        ?StepAfterDescriptionStep fstemp:stepDescription ?recipeStepAfterLabel .\n",
    "    }}\n",
    "    \"\"\".format(recipe_Y, step_X)\n",
    ")\n",
    "\n",
    "for result in q7_1:\n",
    "    print(\"Step following '{}' is:\\n\\n {}\".format(step_X, result[0]))"
   ],
   "metadata": {
    "id": "_qsgJtuMGVOz",
    "colab": {
     "base_uri": "https://localhost:8080/"
    },
    "outputId": "d9637880-76e1-471a-9b6f-91b0e07519d4",
    "executionInfo": {
     "status": "ok",
     "timestamp": 1734281085979,
     "user_tz": -60,
     "elapsed": 307,
     "user": {
      "displayName": "Gianluca Apriceno",
      "userId": "08608742979601712621"
     }
    }
   },
   "execution_count": 3,
   "outputs": [
    {
     "output_type": "stream",
     "name": "stdout",
     "text": [
      "Step following 'add the soy sauce, chili powder, garlic powder, cumin, paprika, and cayenne.' is:\n",
      "\n",
      " continue to cook and break the tofu apart until browned and crumbly.\n"
     ]
    }
   ]
  },
  {
   "cell_type": "code",
   "source": [
    "## CQ7-2 ##\n",
    "# Which is the second movement to do when performing activity Z?\n",
    "\n",
    "activity_Z = \"changing a light bulb\"\n",
    "\n",
    "q7_2 = combined_graph.query(\n",
    "    \"\"\"\n",
    "    SELECT ?secondMovementDescription\n",
    "    WHERE {{\n",
    "        ?activity a fsacti:HomeActivity ;\n",
    "                 rdfs:label \"{}\"@en ;\n",
    "                 fstemp:hasFirstRecipeStep ?firstStep .\n",
    "        ?firstStep fstemp:afterStep ?secondStep .\n",
    "        ?secondStep fstemp:hasStepDescription ?secondStepDescription .\n",
    "        ?secondStepDescription fstemp:stepDescription ?secondMovementDescription.\n",
    "    }}\n",
    "    \"\"\".format(activity_Z)\n",
    ")\n",
    "\n",
    "for result in q7_2:\n",
    "    print(\"Second movement of activity {} is: {}\".format(activity_Z, result[0]))"
   ],
   "metadata": {
    "id": "m_7p2Tl7G7du",
    "colab": {
     "base_uri": "https://localhost:8080/"
    },
    "executionInfo": {
     "status": "ok",
     "timestamp": 1734281090153,
     "user_tz": -60,
     "elapsed": 213,
     "user": {
      "displayName": "Gianluca Apriceno",
      "userId": "08608742979601712621"
     }
    },
    "outputId": "1dd0f765-cf81-40e2-cb44-eb9383de1596"
   },
   "execution_count": 4,
   "outputs": [
    {
     "output_type": "stream",
     "name": "stdout",
     "text": [
      "Second movement of activity changing a light bulb is: Take out the old bulb\n"
     ]
    }
   ]
  },
  {
   "cell_type": "code",
   "source": [
    "## CQ7-3 ##\n",
    "# Which are the timespans used to build guidelines?\n",
    "\n",
    "q7_3 = temporal_tbox_graph.query(\n",
    "    \"\"\"\n",
    "    SELECT ?timespanLabel\n",
    "    WHERE {{\n",
    "      ?timespan rdfs:subClassOf fstemp:Timespan ;\n",
    "                rdfs:label ?timespanLabel .\n",
    "      FILTER(LANG(?timespanLabel) = \"en\")\n",
    "    }}\n",
    "    \"\"\"\n",
    ")\n",
    "\n",
    "print(\"The timespans used to build guidelines are:\")\n",
    "for result in q7_3:\n",
    "    print(\"- {}\".format(result[0]))"
   ],
   "metadata": {
    "id": "mk5CrOeDGU6z",
    "executionInfo": {
     "status": "ok",
     "timestamp": 1734281092943,
     "user_tz": -60,
     "elapsed": 5,
     "user": {
      "displayName": "Gianluca Apriceno",
      "userId": "08608742979601712621"
     }
    },
    "colab": {
     "base_uri": "https://localhost:8080/"
    },
    "outputId": "05267851-5b74-4159-b3e0-750e4fbee8cb"
   },
   "execution_count": 5,
   "outputs": [
    {
     "output_type": "stream",
     "name": "stdout",
     "text": [
      "The timespans used to build guidelines are:\n",
      "- Day\n",
      "- Week\n"
     ]
    }
   ]
  },
  {
   "cell_type": "markdown",
   "source": [],
   "metadata": {
    "id": "TGnLk8HNHTxD"
   }
  }
 ]
}
