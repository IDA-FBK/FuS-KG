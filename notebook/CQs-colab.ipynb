{
  "nbformat": 4,
  "nbformat_minor": 0,
  "metadata": {
    "colab": {
      "provenance": []
    },
    "kernelspec": {
      "name": "python3",
      "display_name": "Python 3"
    },
    "language_info": {
      "name": "python"
    }
  },
  "cells": [
    {
      "cell_type": "code",
      "execution_count": 1,
      "metadata": {
        "colab": {
          "base_uri": "https://localhost:8080/"
        },
        "id": "y9HdDSBqDeIR",
        "outputId": "ca43e22d-b492-4643-cf17-756c67beec94"
      },
      "outputs": [
        {
          "output_type": "stream",
          "name": "stdout",
          "text": [
            "Collecting rdflib\n",
            "  Downloading rdflib-7.0.0-py3-none-any.whl (531 kB)\n",
            "\u001b[2K     \u001b[90m━━━━━━━━━━━━━━━━━━━━━━━━━━━━━━━━━━━━━━━━\u001b[0m \u001b[32m531.9/531.9 kB\u001b[0m \u001b[31m4.4 MB/s\u001b[0m eta \u001b[36m0:00:00\u001b[0m\n",
            "\u001b[?25hCollecting isodate<0.7.0,>=0.6.0 (from rdflib)\n",
            "  Downloading isodate-0.6.1-py2.py3-none-any.whl (41 kB)\n",
            "\u001b[2K     \u001b[90m━━━━━━━━━━━━━━━━━━━━━━━━━━━━━━━━━━━━━━━━\u001b[0m \u001b[32m41.7/41.7 kB\u001b[0m \u001b[31m2.8 MB/s\u001b[0m eta \u001b[36m0:00:00\u001b[0m\n",
            "\u001b[?25hRequirement already satisfied: pyparsing<4,>=2.1.0 in /usr/local/lib/python3.10/dist-packages (from rdflib) (3.1.2)\n",
            "Requirement already satisfied: six in /usr/local/lib/python3.10/dist-packages (from isodate<0.7.0,>=0.6.0->rdflib) (1.16.0)\n",
            "Installing collected packages: isodate, rdflib\n",
            "Successfully installed isodate-0.6.1 rdflib-7.0.0\n"
          ]
        }
      ],
      "source": [
        "!pip install rdflib"
      ]
    },
    {
      "cell_type": "code",
      "source": [
        "import rdflib\n",
        "from rdflib import Graph"
      ],
      "metadata": {
        "id": "nJt5_u0qDrlf"
      },
      "execution_count": 2,
      "outputs": []
    },
    {
      "cell_type": "code",
      "source": [
        "#### REQ1 #####\n",
        "#### The KG must conceptualize the food domain at a fine-grained level.\n",
        "path_to_recipes1m_usda = \"https://horus-ai.fbk.eu/fuskg/ontology/abox/recipes/fuskg-usda-recipes-recipe1m.ttl\"\n",
        "recipes1m_usda_graph = Graph()\n",
        "recipes1m_usda_graph.parse(path_to_recipes1m_usda, format=\"ttl\")"
      ],
      "metadata": {
        "id": "ld49MwTwD5Xy",
        "colab": {
          "base_uri": "https://localhost:8080/"
        },
        "outputId": "3f2f95f4-ba95-472c-b9cd-fe457f6d26b0"
      },
      "execution_count": 3,
      "outputs": [
        {
          "output_type": "execute_result",
          "data": {
            "text/plain": [
              "<Graph identifier=Nd7f6f5f515104afd84b602081c798821 (<class 'rdflib.graph.Graph'>)>"
            ]
          },
          "metadata": {},
          "execution_count": 3
        }
      ]
    },
    {
      "cell_type": "code",
      "source": [
        "## CQ1-1 ##\n",
        "# Which are the ingredients of recipe X?\n",
        "recipe_X = \"Yogurt Parfaits\"\n",
        "q1_1 = recipes1m_usda_graph.query(\n",
        "    \"\"\"\n",
        "    SELECT ?foodLabel\n",
        "    WHERE {{\n",
        "        ?recipe a fsreci:Recipe1m ;\n",
        "                rdfs:label \"{}\" ;\n",
        "                fsreci:hasRecipeFood ?recipefood .\n",
        "        ?recipefood fsfood:hasFood ?food .\n",
        "        ?food rdfs:label ?foodLabel .\n",
        "    }}\n",
        "\"\"\".format(recipe_X)\n",
        ")\n",
        "for result in q1_1:\n",
        "    print(\"Ingredient: {}\".format(result[0]))"
      ],
      "metadata": {
        "id": "QA1I5P5qFADw",
        "colab": {
          "base_uri": "https://localhost:8080/"
        },
        "outputId": "f4562700-766c-45ea-95e1-d658e4b42163"
      },
      "execution_count": 4,
      "outputs": [
        {
          "output_type": "stream",
          "name": "stdout",
          "text": [
            "Ingredient: Strawberries, raw\n",
            "Ingredient: Yogurt, Greek, plain, nonfat (Includes foods for USDA's Food Distribution Program)\n",
            "Ingredient: Cereals ready-to-eat, granola, homemade\n"
          ]
        }
      ]
    },
    {
      "cell_type": "code",
      "source": [
        "## CQ1-2 ##\n",
        "# Which are the nutrients of the food Y?\n",
        "ingredient_Y = \"Strawberries, raw\"\n",
        "q1_2 = recipes1m_usda_graph.query(\n",
        "    \"\"\"\n",
        "    SELECT ?nutrClass\n",
        "    WHERE {{\n",
        "        ?food rdfs:label \"{}\"@en ;\n",
        "              fscore:hasNutrient ?nutrInst .\n",
        "        ?nutrInst a ?nutrClass .\n",
        "        FILTER(STRSTARTS(str(?nutrClass), \"https://w3id.org/fuskg/usda#usda-nut\")) .\n",
        "    }}\n",
        "\"\"\".format(ingredient_Y)\n",
        ")\n",
        "\n",
        "for result in q1_2:\n",
        "    print(\"Nutrient: {}\".format(result[0]))"
      ],
      "metadata": {
        "id": "CroDW89gFBLd",
        "colab": {
          "base_uri": "https://localhost:8080/"
        },
        "outputId": "4e52f776-fdd1-440d-eb42-0628e881d228"
      },
      "execution_count": 5,
      "outputs": [
        {
          "output_type": "stream",
          "name": "stdout",
          "text": [
            "Nutrient: https://w3id.org/fuskg/usda#usda-nut-1003\n",
            "Nutrient: https://w3id.org/fuskg/usda#usda-nut-1004\n",
            "Nutrient: https://w3id.org/fuskg/usda#usda-nut-1005\n",
            "Nutrient: https://w3id.org/fuskg/usda#usda-nut-1007\n",
            "Nutrient: https://w3id.org/fuskg/usda#usda-nut-1009\n",
            "Nutrient: https://w3id.org/fuskg/usda#usda-nut-1010\n",
            "Nutrient: https://w3id.org/fuskg/usda#usda-nut-1011\n",
            "Nutrient: https://w3id.org/fuskg/usda#usda-nut-1012\n",
            "Nutrient: https://w3id.org/fuskg/usda#usda-nut-1013\n",
            "Nutrient: https://w3id.org/fuskg/usda#usda-nut-1014\n",
            "Nutrient: https://w3id.org/fuskg/usda#usda-nut-1018\n",
            "Nutrient: https://w3id.org/fuskg/usda#usda-nut-1057\n",
            "Nutrient: https://w3id.org/fuskg/usda#usda-nut-1058\n",
            "Nutrient: https://w3id.org/fuskg/usda#usda-nut-1075\n",
            "Nutrient: https://w3id.org/fuskg/usda#usda-nut-1079\n",
            "Nutrient: https://w3id.org/fuskg/usda#usda-nut-1087\n",
            "Nutrient: https://w3id.org/fuskg/usda#usda-nut-1089\n",
            "Nutrient: https://w3id.org/fuskg/usda#usda-nut-1090\n",
            "Nutrient: https://w3id.org/fuskg/usda#usda-nut-1091\n",
            "Nutrient: https://w3id.org/fuskg/usda#usda-nut-1092\n",
            "Nutrient: https://w3id.org/fuskg/usda#usda-nut-1093\n",
            "Nutrient: https://w3id.org/fuskg/usda#usda-nut-1095\n",
            "Nutrient: https://w3id.org/fuskg/usda#usda-nut-1098\n",
            "Nutrient: https://w3id.org/fuskg/usda#usda-nut-1099\n",
            "Nutrient: https://w3id.org/fuskg/usda#usda-nut-1101\n",
            "Nutrient: https://w3id.org/fuskg/usda#usda-nut-1103\n",
            "Nutrient: https://w3id.org/fuskg/usda#usda-nut-1104\n",
            "Nutrient: https://w3id.org/fuskg/usda#usda-nut-1105\n",
            "Nutrient: https://w3id.org/fuskg/usda#usda-nut-1106\n",
            "Nutrient: https://w3id.org/fuskg/usda#usda-nut-1107\n",
            "Nutrient: https://w3id.org/fuskg/usda#usda-nut-1108\n",
            "Nutrient: https://w3id.org/fuskg/usda#usda-nut-1109\n",
            "Nutrient: https://w3id.org/fuskg/usda#usda-nut-1110\n",
            "Nutrient: https://w3id.org/fuskg/usda#usda-nut-1114\n",
            "Nutrient: https://w3id.org/fuskg/usda#usda-nut-1120\n",
            "Nutrient: https://w3id.org/fuskg/usda#usda-nut-1122\n",
            "Nutrient: https://w3id.org/fuskg/usda#usda-nut-1123\n",
            "Nutrient: https://w3id.org/fuskg/usda#usda-nut-1125\n",
            "Nutrient: https://w3id.org/fuskg/usda#usda-nut-1126\n",
            "Nutrient: https://w3id.org/fuskg/usda#usda-nut-1127\n",
            "Nutrient: https://w3id.org/fuskg/usda#usda-nut-1128\n",
            "Nutrient: https://w3id.org/fuskg/usda#usda-nut-1129\n",
            "Nutrient: https://w3id.org/fuskg/usda#usda-nut-1130\n",
            "Nutrient: https://w3id.org/fuskg/usda#usda-nut-1131\n",
            "Nutrient: https://w3id.org/fuskg/usda#usda-nut-1162\n",
            "Nutrient: https://w3id.org/fuskg/usda#usda-nut-1165\n",
            "Nutrient: https://w3id.org/fuskg/usda#usda-nut-1166\n",
            "Nutrient: https://w3id.org/fuskg/usda#usda-nut-1167\n",
            "Nutrient: https://w3id.org/fuskg/usda#usda-nut-1170\n",
            "Nutrient: https://w3id.org/fuskg/usda#usda-nut-1175\n",
            "Nutrient: https://w3id.org/fuskg/usda#usda-nut-1177\n",
            "Nutrient: https://w3id.org/fuskg/usda#usda-nut-1178\n",
            "Nutrient: https://w3id.org/fuskg/usda#usda-nut-1180\n",
            "Nutrient: https://w3id.org/fuskg/usda#usda-nut-1184\n",
            "Nutrient: https://w3id.org/fuskg/usda#usda-nut-1185\n",
            "Nutrient: https://w3id.org/fuskg/usda#usda-nut-1186\n",
            "Nutrient: https://w3id.org/fuskg/usda#usda-nut-1187\n",
            "Nutrient: https://w3id.org/fuskg/usda#usda-nut-1190\n",
            "Nutrient: https://w3id.org/fuskg/usda#usda-nut-1198\n",
            "Nutrient: https://w3id.org/fuskg/usda#usda-nut-1210\n",
            "Nutrient: https://w3id.org/fuskg/usda#usda-nut-1211\n",
            "Nutrient: https://w3id.org/fuskg/usda#usda-nut-1212\n",
            "Nutrient: https://w3id.org/fuskg/usda#usda-nut-1213\n",
            "Nutrient: https://w3id.org/fuskg/usda#usda-nut-1214\n",
            "Nutrient: https://w3id.org/fuskg/usda#usda-nut-1215\n",
            "Nutrient: https://w3id.org/fuskg/usda#usda-nut-1216\n",
            "Nutrient: https://w3id.org/fuskg/usda#usda-nut-1217\n",
            "Nutrient: https://w3id.org/fuskg/usda#usda-nut-1218\n",
            "Nutrient: https://w3id.org/fuskg/usda#usda-nut-1219\n",
            "Nutrient: https://w3id.org/fuskg/usda#usda-nut-1220\n",
            "Nutrient: https://w3id.org/fuskg/usda#usda-nut-1221\n",
            "Nutrient: https://w3id.org/fuskg/usda#usda-nut-1222\n",
            "Nutrient: https://w3id.org/fuskg/usda#usda-nut-1223\n",
            "Nutrient: https://w3id.org/fuskg/usda#usda-nut-1224\n",
            "Nutrient: https://w3id.org/fuskg/usda#usda-nut-1225\n",
            "Nutrient: https://w3id.org/fuskg/usda#usda-nut-1226\n",
            "Nutrient: https://w3id.org/fuskg/usda#usda-nut-1227\n",
            "Nutrient: https://w3id.org/fuskg/usda#usda-nut-1242\n",
            "Nutrient: https://w3id.org/fuskg/usda#usda-nut-1246\n",
            "Nutrient: https://w3id.org/fuskg/usda#usda-nut-1253\n",
            "Nutrient: https://w3id.org/fuskg/usda#usda-nut-1257\n",
            "Nutrient: https://w3id.org/fuskg/usda#usda-nut-1258\n",
            "Nutrient: https://w3id.org/fuskg/usda#usda-nut-1259\n",
            "Nutrient: https://w3id.org/fuskg/usda#usda-nut-1260\n",
            "Nutrient: https://w3id.org/fuskg/usda#usda-nut-1261\n",
            "Nutrient: https://w3id.org/fuskg/usda#usda-nut-1262\n",
            "Nutrient: https://w3id.org/fuskg/usda#usda-nut-1263\n",
            "Nutrient: https://w3id.org/fuskg/usda#usda-nut-1264\n",
            "Nutrient: https://w3id.org/fuskg/usda#usda-nut-1265\n",
            "Nutrient: https://w3id.org/fuskg/usda#usda-nut-1266\n",
            "Nutrient: https://w3id.org/fuskg/usda#usda-nut-1268\n",
            "Nutrient: https://w3id.org/fuskg/usda#usda-nut-1269\n",
            "Nutrient: https://w3id.org/fuskg/usda#usda-nut-1270\n",
            "Nutrient: https://w3id.org/fuskg/usda#usda-nut-1271\n",
            "Nutrient: https://w3id.org/fuskg/usda#usda-nut-1272\n",
            "Nutrient: https://w3id.org/fuskg/usda#usda-nut-1275\n",
            "Nutrient: https://w3id.org/fuskg/usda#usda-nut-1276\n",
            "Nutrient: https://w3id.org/fuskg/usda#usda-nut-1277\n",
            "Nutrient: https://w3id.org/fuskg/usda#usda-nut-1278\n",
            "Nutrient: https://w3id.org/fuskg/usda#usda-nut-1279\n",
            "Nutrient: https://w3id.org/fuskg/usda#usda-nut-1280\n",
            "Nutrient: https://w3id.org/fuskg/usda#usda-nut-1283\n",
            "Nutrient: https://w3id.org/fuskg/usda#usda-nut-1292\n",
            "Nutrient: https://w3id.org/fuskg/usda#usda-nut-1293\n",
            "Nutrient: https://w3id.org/fuskg/usda#usda-nut-2000\n"
          ]
        }
      ]
    },
    {
      "cell_type": "code",
      "source": [
        "## CQ1-3 ##\n",
        "# How many calories does food Z have?\n",
        "ingredient_Z = \"Mushrooms, portabella, raw\"\n",
        "q1_3 = recipes1m_usda_graph.query(\n",
        "    \"\"\"\n",
        "    SELECT ?food ?amountCalories\n",
        "    WHERE {{\n",
        "        ?food rdfs:label \"{}\"@en ;\n",
        "              fsfood:amountCalories ?amountCalories .\n",
        "    }}\n",
        "\"\"\".format(ingredient_Z)\n",
        ")\n",
        "\n",
        "for result in q1_3:\n",
        "    print(\"Amount of calories: {}\".format(result[1]))"
      ],
      "metadata": {
        "id": "2RKkEKNoFBVs",
        "colab": {
          "base_uri": "https://localhost:8080/"
        },
        "outputId": "e24d13fd-9955-430b-c27d-b3b4e142e2ad"
      },
      "execution_count": 6,
      "outputs": [
        {
          "output_type": "stream",
          "name": "stdout",
          "text": [
            "Amount of calories: 22.0\n"
          ]
        }
      ]
    },
    {
      "cell_type": "code",
      "source": [
        "## CQ1-4 ##\n",
        "# Which are the ingredients of recipe X that contain nutrient Y?"
      ],
      "metadata": {
        "id": "Ec8WtVfWFBxd"
      },
      "execution_count": 7,
      "outputs": []
    },
    {
      "cell_type": "code",
      "source": [
        "#### REQ2 ####\n",
        "### The KG must provide a comprehensive list of activities that a person can perform. For each activity,\n",
        "### it must be provided the knowledge required to understand the effort necessary to complete the activity\n",
        "### to enable the inference of how much of each food defined under REQ1 is necessary to fulfill the activity.\n",
        "path_to_activity_graph = \"https://horus-ai.fbk.eu/fuskg/ontology/fuskg-activity.ttl\"\n",
        "activity_graph = Graph()\n",
        "activity_graph.parse(path_to_activity_graph, format=\"ttl\")"
      ],
      "metadata": {
        "id": "pp7mFt-8GGNM",
        "colab": {
          "base_uri": "https://localhost:8080/"
        },
        "outputId": "043b87c7-8971-4c57-e8c8-ed801b8ab5f8"
      },
      "execution_count": 8,
      "outputs": [
        {
          "output_type": "execute_result",
          "data": {
            "text/plain": [
              "<Graph identifier=N9b66a81b75d64a658eafad2cd327a934 (<class 'rdflib.graph.Graph'>)>"
            ]
          },
          "metadata": {},
          "execution_count": 8
        }
      ]
    },
    {
      "cell_type": "code",
      "source": [
        "## CQ2-1 ##\n",
        "# Which is the effort needed to fulfill the activity X?\n",
        "activity_X = \"Salsa dancing\"\n",
        "q2_1 = activity_graph.query(\n",
        "    \"\"\"\n",
        "    SELECT ?metValue\n",
        "    WHERE {{\n",
        "        ?activity a fsacti:Dancing ;\n",
        "                 rdfs:label \"{}\"@en ;\n",
        "                 fsacti:hasMETValue ?metValue .\n",
        "    }}\n",
        "    \"\"\".format(activity_X)\n",
        ")\n",
        "\n",
        "for result in q2_1:\n",
        "    print(\"Activity {} has MET Value {}\".format(activity_X, result[0]))"
      ],
      "metadata": {
        "colab": {
          "base_uri": "https://localhost:8080/"
        },
        "id": "oMdNOFOOEYcP",
        "outputId": "293d30dc-872f-4cb4-816b-ba03f5c64061"
      },
      "execution_count": 9,
      "outputs": [
        {
          "output_type": "stream",
          "name": "stdout",
          "text": [
            "Activity Salsa dancing has MET Value 4.5\n"
          ]
        }
      ]
    },
    {
      "cell_type": "code",
      "source": [
        "## CQ2-2 ##\n",
        "# How many calories are consumed when performing activity Y for N minutes?\n",
        "activity_Y = \"mountain climbing\"\n",
        "N = 30\n",
        "q2_2 = activity_graph.query(\n",
        "    \"\"\"\n",
        "    SELECT ?KcalValue (?KcalValue * {} AS ?KcalValue30m)\n",
        "    WHERE {{\n",
        "        ?activity a fsacti:Sports ;\n",
        "                 rdfs:label \"{}\"@en ;\n",
        "                 fsacti:hasUnitKCalValue ?KcalValue .\n",
        "    }}\n",
        "    \"\"\".format(N, activity_Y)\n",
        ")\n",
        "\n",
        "for result in q2_2:\n",
        "    print(\"Activity {} has {} Kcal per minute and when performed for {} minutes {} Kcal are consumed\".format(activity_Y, round(float(result[0]), 2), N, round(float(result[1]), 2)))"
      ],
      "metadata": {
        "colab": {
          "base_uri": "https://localhost:8080/"
        },
        "id": "uvdrUtWYEZQu",
        "outputId": "3460dc4a-3adc-4e31-db3b-0e56a8a01e54"
      },
      "execution_count": 12,
      "outputs": [
        {
          "output_type": "stream",
          "name": "stdout",
          "text": [
            "Activity mountain climbing has 0.13 Kcal per minute and when performed for 30 minutes 4.0 Kcal are consumed\n"
          ]
        }
      ]
    },
    {
      "cell_type": "code",
      "source": [
        "## CQ2-3 ##\n",
        "# Which is the most intense activity of category C?\n",
        "category_C = \"WaterActivities\"\n",
        "q2_3 = activity_graph.query(\n",
        "    \"\"\"\n",
        "    SELECT ?activityLabel ?maxMetValue\n",
        "    WHERE {{\n",
        "        {{\n",
        "            SELECT (MAX(?metValue) as ?maxMetValue)\n",
        "            WHERE {{\n",
        "                ?activity a fsacti:{} ;\n",
        "                         fsacti:hasMETValue ?metValue .\n",
        "            }}\n",
        "        }}\n",
        "        ?activity a fsacti:{} ;\n",
        "                 rdfs:label ?activityLabel ;\n",
        "                 fsacti:hasMETValue ?maxMetValue .\n",
        "        FILTER(LANG(?activityLabel) = 'en')\n",
        "    }}\n",
        "    \"\"\".format(category_C, category_C)\n",
        ")\n",
        "for result in q2_3:\n",
        "    print(\"The most intense activity of category {} is {} with MET value {}\".format(category_C, result[0], result[1]))"
      ],
      "metadata": {
        "colab": {
          "base_uri": "https://localhost:8080/"
        },
        "id": "7c3q8IaXEf1M",
        "outputId": "6604aa87-374c-46b4-f9a0-b16f4d0d3ecf"
      },
      "execution_count": 13,
      "outputs": [
        {
          "output_type": "stream",
          "name": "stdout",
          "text": [
            "The most intense activity of category WaterActivities is free diving, vigorous effort with MET value 15.8\n",
            "The most intense activity of category WaterActivities is scuba diving, vigorous effort with MET value 15.8\n"
          ]
        }
      ]
    },
    {
      "cell_type": "code",
      "source": [
        "## CQ2-4 ##\n",
        "# Which are the activities of category C that consume at least 0.1 kcal?\n",
        "q2_4 = activity_graph.query(\n",
        "    \"\"\"\n",
        "    SELECT ?activityLabel ?KcalValue\n",
        "    WHERE {{\n",
        "        ?activity a fsacti:{} ;\n",
        "                 rdfs:label ?activityLabel ;\n",
        "                 fsacti:hasUnitKCalValue ?KcalValue .\n",
        "        FILTER(LANG(?activityLabel) = 'en' && ?KcalValue >= 0.1)\n",
        "    }}\n",
        "    ORDER BY ASC(?activityLabel)\n",
        "    \"\"\".format(category_C)\n",
        ")\n",
        "for result in q2_4:\n",
        "    print(\"Activity {} consumes {}\".format(result[0], round(float(result[1]),2)))"
      ],
      "metadata": {
        "colab": {
          "base_uri": "https://localhost:8080/"
        },
        "id": "yD31_uf4Eigt",
        "outputId": "106617fe-3de8-42d3-b072-fd2affd20ba3"
      },
      "execution_count": 14,
      "outputs": [
        {
          "output_type": "stream",
          "name": "stdout",
          "text": [
            "Activity backstroke swimming competition consumes 0.16\n",
            "Activity backstroke swimming training consumes 0.16\n",
            "Activity backstroke swimming, moderate effort consumes 0.16\n",
            "Activity breaststroke swimming competition consumes 0.16\n",
            "Activity breaststroke swimming training consumes 0.16\n",
            "Activity breaststroke swimming, moderate effort consumes 0.17\n",
            "Activity butterfly swimming consumes 0.23\n",
            "Activity canoeing crew in competition consumes 0.2\n",
            "Activity crawl swimming, vigorous effort consumes 0.17\n",
            "Activity free diving, light effort consumes 0.12\n",
            "Activity free diving, moderate effort consumes 0.2\n",
            "Activity free diving, vigorous effort consumes 0.26\n",
            "Activity freestyle swimming, moderato effort consumes 0.14\n",
            "Activity freestyle swimming, vigorous effort consumes 0.16\n",
            "Activity kayaking competition consumes 0.21\n",
            "Activity kayaking, vigorous effort consumes 0.21\n",
            "Activity kitesurfing, moderate effort consumes 0.18\n",
            "Activity kitesurfing, vigorous effort consumes 0.23\n",
            "Activity open water swimming (lake, sea, river) consumes 0.1\n",
            "Activity paddle boarding standing consumes 0.1\n",
            "Activity portaging a canoe consumes 0.12\n",
            "Activity rowing > 6 mph consumes 0.21\n",
            "Activity rowing competition consumes 0.21\n",
            "Activity rowing, vigorous effort consumes 0.21\n",
            "Activity scuba diving, light effort consumes 0.12\n",
            "Activity scuba diving, moderate effort consumes 0.2\n",
            "Activity scuba diving, vigorous effort consumes 0.26\n",
            "Activity sidestroke swimming consumes 0.12\n",
            "Activity swimming for leisure consumes 0.1\n",
            "Activity swimming in a lake consumes 0.1\n",
            "Activity swimming in a river consumes 0.1\n",
            "Activity swimming in the sea consumes 0.1\n",
            "Activity synchronized swimming consumes 0.13\n",
            "Activity treading water, vigorous effort consumes 0.16\n",
            "Activity wakeboarding consumes 0.1\n",
            "Activity water jogging consumes 0.16\n",
            "Activity water polo playing consumes 0.17\n",
            "Activity water walking, vigorous effort consumes 0.11\n",
            "Activity waterskiing consumes 0.1\n",
            "Activity windsurfing, moderate effort consumes 0.18\n",
            "Activity windsurfing, vigorous effort consumes 0.23\n"
          ]
        }
      ]
    },
    {
      "cell_type": "code",
      "source": [
        "#### REQ3 #####\n",
        "### The KG must include the model of the barriers that may affect a person and how such barriers obstacle\n",
        "### the fulfillment of specific activities, the consumption of specific foods, or, in general, the following of\n",
        "### specific guidelines."
      ],
      "metadata": {
        "id": "BEpRVYBYFB8N"
      },
      "execution_count": null,
      "outputs": []
    },
    {
      "cell_type": "code",
      "source": [
        "## CQ3-1 ##\n",
        "# Why user U cannot perform activity X?"
      ],
      "metadata": {
        "id": "Dklr1TyUFCFu"
      },
      "execution_count": null,
      "outputs": []
    },
    {
      "cell_type": "code",
      "source": [
        "## CQ3-2 ##\n",
        "# Why user U cannot consume food Y?"
      ],
      "metadata": {
        "id": "9bWnU-tMFTA7"
      },
      "execution_count": null,
      "outputs": []
    },
    {
      "cell_type": "code",
      "source": [
        "## CQ3-3 ##\n",
        "# Which are the barriers preventing the fulfillment of activity Z?"
      ],
      "metadata": {
        "id": "qEqdQnuDFV_8"
      },
      "execution_count": null,
      "outputs": []
    },
    {
      "cell_type": "code",
      "source": [
        "#### REQ4 #####\n",
        "### The KG must support the modeling of multi-modal knowledge since a MMKG may be exploited to better support\n",
        "### users’ education tasks and enable knowledge injection tasks into large foundational models.\n",
        "path_to_recipes1m_multimodal_graph = \"https://horus-ai.fbk.eu/fuskg/ontology/abox/multimodal/fuskg-multimodal-recipe1m.ttl\"\n",
        "multimodal_graph_recipe1m = Graph()\n",
        "multimodal_graph_recipe1m.parse(path_to_recipes1m_multimodal_graph, format=\"ttl\")"
      ],
      "metadata": {
        "id": "G5GYJfeGFW0r",
        "colab": {
          "base_uri": "https://localhost:8080/"
        },
        "outputId": "29693efd-08d0-455e-a423-33dd08e6411a"
      },
      "execution_count": 15,
      "outputs": [
        {
          "output_type": "execute_result",
          "data": {
            "text/plain": [
              "<Graph identifier=N92ba0d70ca4c4829807bfe0ce18edc2c (<class 'rdflib.graph.Graph'>)>"
            ]
          },
          "metadata": {},
          "execution_count": 15
        }
      ]
    },
    {
      "cell_type": "code",
      "source": [
        "## CQ4-1 ##\n",
        "# Where is it possible to find a picture of recipe X?\n",
        "recipe_X = \"Yogurt Parfaits\"\n",
        "q4_1 = multimodal_graph_recipe1m.query(\n",
        "    \"\"\"\n",
        "    SELECT ?recipe ?modalDescriptor ?resourceURL\n",
        "    WHERE {{\n",
        "        ?recipe a fsreci:Recipe1m ;\n",
        "                rdfs:label \"{}\" .\n",
        "        ?recipe fsmumo:hasModalDescriptor ?modalDescriptor .\n",
        "        ?modalDescriptor fsmumo:resourceURL ?resourceURL .\n",
        "    }}\n",
        "\"\"\".format(recipe_X)\n",
        ")\n",
        "\n",
        "for result in q4_1:\n",
        "    print(\"ResourceURL: {}\".format(result[2]))"
      ],
      "metadata": {
        "id": "FKWZYhCLFbTJ",
        "colab": {
          "base_uri": "https://localhost:8080/"
        },
        "outputId": "61d2fae0-a0da-4266-d48c-b40d00bbc302"
      },
      "execution_count": 16,
      "outputs": [
        {
          "output_type": "stream",
          "name": "stdout",
          "text": [
            "ResourceURL: https://i.ytimg.com/vi/G1wcU5aBOOk/maxresdefault.jpg\n",
            "ResourceURL: https://kidseatsmartnl.files.wordpress.com/2014/10/yogurt-parfait-oct2014.jpg\n",
            "ResourceURL: http://del.h-cdn.co/assets/cm/15/10/54f9287d78ad7_-_yogurtparfait.jpg\n",
            "ResourceURL: https://s-media-cache-ak0.pinimg.com/736x/49/8d/c3/498dc3ed97cf3a8c588d29492d76671b.jpg\n",
            "ResourceURL: http://tastykitchen.com/recipes/wp-content/uploads/sites/2/2011/06/IMG_2692-630x420-410x615.jpg\n",
            "ResourceURL: http://www.tastearkansas.com/wp-content/uploads/2013/07/RaspberyParfait2.jpg\n",
            "ResourceURL: https://static01.nyt.com/images/2013/06/25/science/28recipehealth/28recipehealth-articleLarge.jpg\n",
            "ResourceURL: https://images-gmi-pmc.edge-generalmills.com/68970b26-cc64-4fc1-b6c5-457362c699e7.jpg\n",
            "ResourceURL: http://lmld.org/wp-content/uploads/2013/05/054editedsmall.jpg\n"
          ]
        }
      ]
    },
    {
      "cell_type": "code",
      "source": [
        "## CQ4-2 ##\n",
        "# Where is it possible to download a video showing how to perform activity Y? --- ongoing finding data"
      ],
      "metadata": {
        "id": "9Ie0F8JoHN2b"
      },
      "execution_count": null,
      "outputs": []
    },
    {
      "cell_type": "code",
      "source": [
        "#### REQ5 #####\n",
        "### Knowledge modeled under the requirements REQ1, REQ2, REQ3, and REQ4 must be associated with knowledge and\n",
        "### data gathered from users’ input."
      ],
      "metadata": {
        "id": "dn9hjCXwFeHK"
      },
      "execution_count": null,
      "outputs": []
    },
    {
      "cell_type": "code",
      "source": [
        "## CQ5-1 ##\n",
        "# What did the user U consume N days ago for breakfast?"
      ],
      "metadata": {
        "id": "Q92op6ctFih_"
      },
      "execution_count": null,
      "outputs": []
    },
    {
      "cell_type": "code",
      "source": [
        "## CQ5-2 ##\n",
        "# How many times did user U perform activity Y last week?"
      ],
      "metadata": {
        "id": "FuWhyYjQFkHd"
      },
      "execution_count": null,
      "outputs": []
    },
    {
      "cell_type": "code",
      "source": [
        "## CQ5-3 ##\n",
        "# Did user U consume food Y today?"
      ],
      "metadata": {
        "id": "-GeJYJmVFkSd"
      },
      "execution_count": null,
      "outputs": []
    },
    {
      "cell_type": "code",
      "source": [
        "## CQ5-4 ##\n",
        "# How many calories were consumed by user U yesterday?"
      ],
      "metadata": {
        "id": "SP07BbIEFk1N"
      },
      "execution_count": null,
      "outputs": []
    },
    {
      "cell_type": "code",
      "source": [
        "#### REQ6 #####\n",
        "### A KG usable for creating a behavior change solution requires a set of guidelines driving the behavior change intervention."
      ],
      "metadata": {
        "id": "O3Ll4NCWGWJs"
      },
      "execution_count": null,
      "outputs": []
    },
    {
      "cell_type": "code",
      "source": [
        "## CQ6-1 ##\n",
        "# How many times is it possible to consume food X in a week?"
      ],
      "metadata": {
        "id": "Fh95kcoXGWGT"
      },
      "execution_count": null,
      "outputs": []
    },
    {
      "cell_type": "code",
      "source": [
        "## CQ6-2 ##\n",
        "# How many minutes of activity Y should be performed by user U in a single training session?"
      ],
      "metadata": {
        "id": "E9721LowGWB9"
      },
      "execution_count": null,
      "outputs": []
    },
    {
      "cell_type": "code",
      "source": [
        "## CQ6-3 ##\n",
        "# How much food Y can be eaten during a single meal?"
      ],
      "metadata": {
        "id": "gPxvvo-3GV-w"
      },
      "execution_count": null,
      "outputs": []
    },
    {
      "cell_type": "code",
      "source": [
        "## CQ6-4 ##\n",
        "# Is it allowed to consume M grams of food Z in a single day?"
      ],
      "metadata": {
        "id": "xeumxSLYGV7W"
      },
      "execution_count": null,
      "outputs": []
    },
    {
      "cell_type": "code",
      "source": [
        "#### REQ7 #####\n",
        "### The KG must include temporal knowledge to support the requirements above and enable temporal reasoning over the users’ collected knowledge.\n",
        "path_to_tasty_rsteps_graph = \"https://horus-ai.fbk.eu/fuskg/ontology/abox/recipes-steps/fuskg-recipes-recipessteps-tasty.ttl\"\n",
        "tasty_rsteps_graph = Graph()\n",
        "tasty_rsteps_graph.parse(path_to_tasty_rsteps_graph, format=\"ttl\")"
      ],
      "metadata": {
        "id": "rKr_QDSmGV1M",
        "colab": {
          "base_uri": "https://localhost:8080/"
        },
        "outputId": "cc24a862-a1ce-44d6-a6e0-f2567626367a"
      },
      "execution_count": 19,
      "outputs": [
        {
          "output_type": "execute_result",
          "data": {
            "text/plain": [
              "<Graph identifier=N414b0a9abcd144fb80def7a15874ebab (<class 'rdflib.graph.Graph'>)>"
            ]
          },
          "metadata": {},
          "execution_count": 19
        }
      ]
    },
    {
      "cell_type": "code",
      "source": [
        "## CQ7-1 ##\n",
        "# Which is the step following step X during the preparation of recipe Y?\n",
        "recipe_Y = \"sofritas-burrito-bowl\"\n",
        "step_X = \"add the soy sauce, chili powder, garlic powder, cumin, paprika, and cayenne.\"\n",
        "q7_1 = tasty_rsteps_graph.query(\n",
        "    \"\"\"\n",
        "    SELECT ?recipeStepAfterLabel\n",
        "    WHERE {{\n",
        "        ?recipe a fsreci:Tasty ;\n",
        "                 rdfs:label \"{}\" ;\n",
        "                 fstemp:hasFirstRecipeStep ?firstStep .\n",
        "        ?firstStep fstemp:afterStep* ?recipeStepBefore .\n",
        "        ?recipeStepBefore fstemp:hasStepDescription ?stepBeforeDescriptionStep .\n",
        "        ?stepBeforeDescriptionStep fstemp:stepDescription \"{}\"^^xsd:string.\n",
        "        ?recipeStepBefore fstemp:afterStep ?recipeStepAfter.\n",
        "        ?recipeStepAfter fstemp:hasStepDescription ?StepAfterDescriptionStep .\n",
        "        ?StepAfterDescriptionStep fstemp:stepDescription ?recipeStepAfterLabel .\n",
        "    }}\n",
        "    \"\"\".format(recipe_Y, step_X)\n",
        ")\n",
        "\n",
        "for result in q7_1:\n",
        "    print(\"Step following '{}' is:\\n\\n {}\".format(step_X, result[0]))"
      ],
      "metadata": {
        "id": "_qsgJtuMGVOz",
        "colab": {
          "base_uri": "https://localhost:8080/"
        },
        "outputId": "ea9ae813-cf06-427a-ffd6-a82927f84cfd"
      },
      "execution_count": 20,
      "outputs": [
        {
          "output_type": "stream",
          "name": "stdout",
          "text": [
            "Step following 'add the soy sauce, chili powder, garlic powder, cumin, paprika, and cayenne.' is:\n",
            "\n",
            " continue to cook and break the tofu apart until browned and crumbly.\n"
          ]
        }
      ]
    },
    {
      "cell_type": "code",
      "source": [
        "## CQ7-2 ##\n",
        "# Which is the second movement to do when performing activity Z? --- ongoing finding data"
      ],
      "metadata": {
        "id": "m_7p2Tl7G7du"
      },
      "execution_count": null,
      "outputs": []
    },
    {
      "cell_type": "code",
      "source": [
        "## CQ7-3 ##\n",
        "# Which are the timespans used to build guidelines?"
      ],
      "metadata": {
        "id": "mk5CrOeDGU6z"
      },
      "execution_count": null,
      "outputs": []
    },
    {
      "cell_type": "markdown",
      "source": [],
      "metadata": {
        "id": "TGnLk8HNHTxD"
      }
    }
  ]
}